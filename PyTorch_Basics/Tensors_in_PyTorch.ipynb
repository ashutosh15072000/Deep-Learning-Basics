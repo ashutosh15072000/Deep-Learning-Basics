{
  "nbformat": 4,
  "nbformat_minor": 0,
  "metadata": {
    "colab": {
      "provenance": [],
      "gpuType": "T4"
    },
    "kernelspec": {
      "name": "python3",
      "display_name": "Python 3"
    },
    "language_info": {
      "name": "python"
    },
    "accelerator": "GPU"
  },
  "cells": [
    {
      "cell_type": "code",
      "execution_count": 1,
      "metadata": {
        "colab": {
          "base_uri": "https://localhost:8080/"
        },
        "id": "MNCek48UqwaY",
        "outputId": "43199c11-f3e3-4085-d4c0-8dcacc550b1d"
      },
      "outputs": [
        {
          "output_type": "stream",
          "name": "stdout",
          "text": [
            "2.5.1+cu121\n"
          ]
        }
      ],
      "source": [
        "import torch\n",
        "print(torch.__version__)\n"
      ]
    },
    {
      "cell_type": "code",
      "source": [
        "if torch.cuda.is_available():\n",
        "    print(\"CUDA is available\")\n",
        "    print(f\"Using GPU: {torch.cuda.get_device_name(0)}\")\n",
        "else:\n",
        "    print(\"CUDA is not available\")"
      ],
      "metadata": {
        "colab": {
          "base_uri": "https://localhost:8080/"
        },
        "id": "_Eyq9KQhrAzZ",
        "outputId": "656e9e49-9b08-4f9b-c7d2-5ee51974f145"
      },
      "execution_count": 2,
      "outputs": [
        {
          "output_type": "stream",
          "name": "stdout",
          "text": [
            "CUDA is available\n",
            "Using GPU: Tesla T4\n"
          ]
        }
      ]
    },
    {
      "cell_type": "markdown",
      "source": [
        "# CREATE A TENSOR"
      ],
      "metadata": {
        "id": "WNQkwiRZrwqo"
      }
    },
    {
      "cell_type": "code",
      "source": [
        "## USING EMPTY\n",
        "a=torch.empty((2,3))\n",
        "a"
      ],
      "metadata": {
        "colab": {
          "base_uri": "https://localhost:8080/"
        },
        "id": "-GHE0r3krRE7",
        "outputId": "e6913717-70af-4147-b657-a7a3ca1880f4"
      },
      "execution_count": 4,
      "outputs": [
        {
          "output_type": "execute_result",
          "data": {
            "text/plain": [
              "tensor([[9.1624e-01, 3.0925e-41, 7.7673e+00],\n",
              "        [3.0925e-41, 7.7682e+00, 3.0925e-41]])"
            ]
          },
          "metadata": {},
          "execution_count": 4
        }
      ]
    },
    {
      "cell_type": "code",
      "source": [
        "# CHECK TYPE\n",
        "type(a)"
      ],
      "metadata": {
        "colab": {
          "base_uri": "https://localhost:8080/"
        },
        "id": "MaYvcPiwsE9f",
        "outputId": "ccb6919e-51b3-414d-8bd6-5291f138417c"
      },
      "execution_count": 5,
      "outputs": [
        {
          "output_type": "execute_result",
          "data": {
            "text/plain": [
              "torch.Tensor"
            ]
          },
          "metadata": {},
          "execution_count": 5
        }
      ]
    },
    {
      "cell_type": "code",
      "source": [
        "# USING ZEROS\n",
        "torch.zeros(2,3)"
      ],
      "metadata": {
        "colab": {
          "base_uri": "https://localhost:8080/"
        },
        "id": "CZ6zdrm9sS4q",
        "outputId": "9a8879ba-ed68-4230-a31d-74e65bf79a39"
      },
      "execution_count": 6,
      "outputs": [
        {
          "output_type": "execute_result",
          "data": {
            "text/plain": [
              "tensor([[0., 0., 0.],\n",
              "        [0., 0., 0.]])"
            ]
          },
          "metadata": {},
          "execution_count": 6
        }
      ]
    },
    {
      "cell_type": "code",
      "source": [
        "# USING ONES\n",
        "torch.ones(2,3)"
      ],
      "metadata": {
        "colab": {
          "base_uri": "https://localhost:8080/"
        },
        "id": "yr79vly8sX_A",
        "outputId": "a13aa39f-8f48-4e8e-a5f8-225b2192bd45"
      },
      "execution_count": 7,
      "outputs": [
        {
          "output_type": "execute_result",
          "data": {
            "text/plain": [
              "tensor([[1., 1., 1.],\n",
              "        [1., 1., 1.]])"
            ]
          },
          "metadata": {},
          "execution_count": 7
        }
      ]
    },
    {
      "cell_type": "code",
      "source": [
        "# USING RAND\n",
        "torch.rand(2,3)"
      ],
      "metadata": {
        "colab": {
          "base_uri": "https://localhost:8080/"
        },
        "id": "osmLej4UsdNG",
        "outputId": "c23efc6c-55b1-4772-db0a-d4dea710f918"
      },
      "execution_count": 8,
      "outputs": [
        {
          "output_type": "execute_result",
          "data": {
            "text/plain": [
              "tensor([[0.5100, 0.9470, 0.4567],\n",
              "        [0.7743, 0.3650, 0.8686]])"
            ]
          },
          "metadata": {},
          "execution_count": 8
        }
      ]
    },
    {
      "cell_type": "code",
      "source": [
        "torch.rand(2,3)"
      ],
      "metadata": {
        "colab": {
          "base_uri": "https://localhost:8080/"
        },
        "id": "kZlLhMCBs96L",
        "outputId": "51152288-84ae-4ec3-c03b-02143a6844a0"
      },
      "execution_count": 11,
      "outputs": [
        {
          "output_type": "execute_result",
          "data": {
            "text/plain": [
              "tensor([[0.2627, 0.0428, 0.2080],\n",
              "        [0.1180, 0.1217, 0.7356]])"
            ]
          },
          "metadata": {},
          "execution_count": 11
        }
      ]
    },
    {
      "cell_type": "code",
      "source": [
        "# USE OF SEED\n",
        "torch.manual_seed(100)\n",
        "torch.rand(2,3)"
      ],
      "metadata": {
        "colab": {
          "base_uri": "https://localhost:8080/"
        },
        "id": "QdxGzN1rsjQs",
        "outputId": "18092ffd-2fa5-4307-b9f5-f680b590199b"
      },
      "execution_count": 9,
      "outputs": [
        {
          "output_type": "execute_result",
          "data": {
            "text/plain": [
              "tensor([[0.1117, 0.8158, 0.2626],\n",
              "        [0.4839, 0.6765, 0.7539]])"
            ]
          },
          "metadata": {},
          "execution_count": 9
        }
      ]
    },
    {
      "cell_type": "code",
      "source": [
        "torch.manual_seed(100)\n",
        "torch.rand(2,3)"
      ],
      "metadata": {
        "colab": {
          "base_uri": "https://localhost:8080/"
        },
        "id": "GlBvs_Mxs04-",
        "outputId": "a61b4d12-542a-4afa-dc7f-ce71f7cf1daf"
      },
      "execution_count": 10,
      "outputs": [
        {
          "output_type": "execute_result",
          "data": {
            "text/plain": [
              "tensor([[0.1117, 0.8158, 0.2626],\n",
              "        [0.4839, 0.6765, 0.7539]])"
            ]
          },
          "metadata": {},
          "execution_count": 10
        }
      ]
    },
    {
      "cell_type": "code",
      "source": [
        "# USING TENSOR\n",
        "torch.tensor([[1,2,3],[4,5,6]])"
      ],
      "metadata": {
        "colab": {
          "base_uri": "https://localhost:8080/"
        },
        "id": "l9lNxHAqs8Ar",
        "outputId": "3f8e2480-74fb-4650-d6fd-aeed4a61f2d3"
      },
      "execution_count": 12,
      "outputs": [
        {
          "output_type": "execute_result",
          "data": {
            "text/plain": [
              "tensor([[1, 2, 3],\n",
              "        [4, 5, 6]])"
            ]
          },
          "metadata": {},
          "execution_count": 12
        }
      ]
    },
    {
      "cell_type": "code",
      "source": [
        "# OTHER WAYS\n",
        "\n",
        "# ARANGE\n",
        "print(\"USING ARANGE -->\",torch.arange(1,10,2))\n",
        "\n",
        "# LINSPACE\n",
        "print(\"USING LINSPACE -->\",torch.linspace(0,10,10))\n",
        "\n",
        "# USING EYE\n",
        "print(\"USING EYE -->\",torch.eye(3))\n",
        "\n",
        "# USING FULL\n",
        "print(\"USING FULL -->\",torch.full((2,3),5))\n"
      ],
      "metadata": {
        "colab": {
          "base_uri": "https://localhost:8080/"
        },
        "id": "V7VUZvyqtFQg",
        "outputId": "a37e5c15-391e-44ad-902c-9d019c47500f"
      },
      "execution_count": 16,
      "outputs": [
        {
          "output_type": "stream",
          "name": "stdout",
          "text": [
            "USING ARANGE --> tensor([1, 3, 5, 7, 9])\n",
            "USING LINSPACE --> tensor([ 0.0000,  1.1111,  2.2222,  3.3333,  4.4444,  5.5556,  6.6667,  7.7778,\n",
            "         8.8889, 10.0000])\n",
            "USING EYE --> tensor([[1., 0., 0.],\n",
            "        [0., 1., 0.],\n",
            "        [0., 0., 1.]])\n",
            "USING FULL --> tensor([[5, 5, 5],\n",
            "        [5, 5, 5]])\n"
          ]
        }
      ]
    },
    {
      "cell_type": "markdown",
      "source": [
        "## Tensor Shapes"
      ],
      "metadata": {
        "id": "oXdMsRo0t8nU"
      }
    },
    {
      "cell_type": "code",
      "source": [
        "x=torch.tensor([[1,2,3],[4,5,6]])\n",
        "x"
      ],
      "metadata": {
        "colab": {
          "base_uri": "https://localhost:8080/"
        },
        "id": "Hv8i8_rrtlzM",
        "outputId": "059d4285-0851-45a7-b140-a58c6f337827"
      },
      "execution_count": 18,
      "outputs": [
        {
          "output_type": "execute_result",
          "data": {
            "text/plain": [
              "tensor([[1, 2, 3],\n",
              "        [4, 5, 6]])"
            ]
          },
          "metadata": {},
          "execution_count": 18
        }
      ]
    },
    {
      "cell_type": "code",
      "source": [
        "x.shape"
      ],
      "metadata": {
        "colab": {
          "base_uri": "https://localhost:8080/"
        },
        "id": "IJAKnllAuF3Y",
        "outputId": "810cdc68-c847-4138-c9d3-de1314225efb"
      },
      "execution_count": 19,
      "outputs": [
        {
          "output_type": "execute_result",
          "data": {
            "text/plain": [
              "torch.Size([2, 3])"
            ]
          },
          "metadata": {},
          "execution_count": 19
        }
      ]
    },
    {
      "cell_type": "code",
      "source": [
        "torch.empty_like(x)"
      ],
      "metadata": {
        "colab": {
          "base_uri": "https://localhost:8080/"
        },
        "id": "ua8IjGkIuLzV",
        "outputId": "d840eb8f-cb78-43d3-8edd-a46d97a3b442"
      },
      "execution_count": 20,
      "outputs": [
        {
          "output_type": "execute_result",
          "data": {
            "text/plain": [
              "tensor([[    133634131545488,      94786723313904,                   0],\n",
              "        [                  0,                   0, 7310593858020254331]])"
            ]
          },
          "metadata": {},
          "execution_count": 20
        }
      ]
    },
    {
      "cell_type": "code",
      "source": [
        "torch.zeros_like(x)"
      ],
      "metadata": {
        "colab": {
          "base_uri": "https://localhost:8080/"
        },
        "id": "KQjyoMrruat4",
        "outputId": "8e6397aa-aed9-4a7e-b56d-0ed73e8edbfe"
      },
      "execution_count": 21,
      "outputs": [
        {
          "output_type": "execute_result",
          "data": {
            "text/plain": [
              "tensor([[0, 0, 0],\n",
              "        [0, 0, 0]])"
            ]
          },
          "metadata": {},
          "execution_count": 21
        }
      ]
    },
    {
      "cell_type": "code",
      "source": [
        "torch.ones_like(x)"
      ],
      "metadata": {
        "colab": {
          "base_uri": "https://localhost:8080/"
        },
        "id": "sRpvLaQMuu15",
        "outputId": "42949edc-8429-4839-cf86-a5f260cec093"
      },
      "execution_count": 22,
      "outputs": [
        {
          "output_type": "execute_result",
          "data": {
            "text/plain": [
              "tensor([[1, 1, 1],\n",
              "        [1, 1, 1]])"
            ]
          },
          "metadata": {},
          "execution_count": 22
        }
      ]
    },
    {
      "cell_type": "code",
      "source": [
        "torch.rand_like(x)"
      ],
      "metadata": {
        "colab": {
          "base_uri": "https://localhost:8080/",
          "height": 141
        },
        "id": "UZGnHSEEuxlA",
        "outputId": "0c2a7bad-a0c8-4857-8d4c-2bd8f1f7233c"
      },
      "execution_count": 23,
      "outputs": [
        {
          "output_type": "error",
          "ename": "RuntimeError",
          "evalue": "\"check_uniform_bounds\" not implemented for 'Long'",
          "traceback": [
            "\u001b[0;31m---------------------------------------------------------------------------\u001b[0m",
            "\u001b[0;31mRuntimeError\u001b[0m                              Traceback (most recent call last)",
            "\u001b[0;32m<ipython-input-23-8a266f1565c3>\u001b[0m in \u001b[0;36m<cell line: 1>\u001b[0;34m()\u001b[0m\n\u001b[0;32m----> 1\u001b[0;31m \u001b[0mtorch\u001b[0m\u001b[0;34m.\u001b[0m\u001b[0mrand_like\u001b[0m\u001b[0;34m(\u001b[0m\u001b[0mx\u001b[0m\u001b[0;34m)\u001b[0m\u001b[0;34m\u001b[0m\u001b[0;34m\u001b[0m\u001b[0m\n\u001b[0m",
            "\u001b[0;31mRuntimeError\u001b[0m: \"check_uniform_bounds\" not implemented for 'Long'"
          ]
        }
      ]
    },
    {
      "cell_type": "code",
      "source": [
        "torch.rand_like(x,dtype=torch.float32)"
      ],
      "metadata": {
        "colab": {
          "base_uri": "https://localhost:8080/"
        },
        "id": "UIpFtQyNwGPZ",
        "outputId": "37a5c4ba-e714-4f86-aff4-ff7b808d290c"
      },
      "execution_count": 30,
      "outputs": [
        {
          "output_type": "execute_result",
          "data": {
            "text/plain": [
              "tensor([[0.7118, 0.7876, 0.4183],\n",
              "        [0.9014, 0.9969, 0.7565]])"
            ]
          },
          "metadata": {},
          "execution_count": 30
        }
      ]
    },
    {
      "cell_type": "markdown",
      "source": [
        "# TENSOR DATA TYPES"
      ],
      "metadata": {
        "id": "BcaIZkOrvQR9"
      }
    },
    {
      "cell_type": "code",
      "source": [
        "## FIND DATA TYPE\n",
        "x.dtype"
      ],
      "metadata": {
        "colab": {
          "base_uri": "https://localhost:8080/"
        },
        "id": "gbSefNYEu1LG",
        "outputId": "75ccce5c-74c7-4905-8d0e-c8cae85764dd"
      },
      "execution_count": 25,
      "outputs": [
        {
          "output_type": "execute_result",
          "data": {
            "text/plain": [
              "torch.int64"
            ]
          },
          "metadata": {},
          "execution_count": 25
        }
      ]
    },
    {
      "cell_type": "code",
      "source": [
        "## ASSIGN DATA DTYPE\n",
        "torch.tensor([1.0,2.0,3.0],dtype=torch.int32)"
      ],
      "metadata": {
        "colab": {
          "base_uri": "https://localhost:8080/"
        },
        "id": "WXouUXkZvXN6",
        "outputId": "fd5e1853-5915-491c-df9e-e52efddec004"
      },
      "execution_count": 26,
      "outputs": [
        {
          "output_type": "execute_result",
          "data": {
            "text/plain": [
              "tensor([1, 2, 3], dtype=torch.int32)"
            ]
          },
          "metadata": {},
          "execution_count": 26
        }
      ]
    },
    {
      "cell_type": "code",
      "source": [
        "torch.tensor([1,2,3],dtype=torch.float64)"
      ],
      "metadata": {
        "colab": {
          "base_uri": "https://localhost:8080/"
        },
        "id": "cyn5gYuMvmJ0",
        "outputId": "34469623-f422-434a-f2ea-b84234d68f61"
      },
      "execution_count": 27,
      "outputs": [
        {
          "output_type": "execute_result",
          "data": {
            "text/plain": [
              "tensor([1., 2., 3.], dtype=torch.float64)"
            ]
          },
          "metadata": {},
          "execution_count": 27
        }
      ]
    },
    {
      "cell_type": "code",
      "source": [
        "## USING TO ()\n",
        "x"
      ],
      "metadata": {
        "colab": {
          "base_uri": "https://localhost:8080/"
        },
        "id": "jSQKx1eXvrMT",
        "outputId": "58d46748-715a-4254-bb4d-cfde866e5780"
      },
      "execution_count": 28,
      "outputs": [
        {
          "output_type": "execute_result",
          "data": {
            "text/plain": [
              "tensor([[1, 2, 3],\n",
              "        [4, 5, 6]])"
            ]
          },
          "metadata": {},
          "execution_count": 28
        }
      ]
    },
    {
      "cell_type": "code",
      "source": [
        "x.to(torch.float32)"
      ],
      "metadata": {
        "colab": {
          "base_uri": "https://localhost:8080/"
        },
        "id": "-DOd50wTvw8Q",
        "outputId": "75e25e20-e2d8-4b21-fee9-39297ba4290a"
      },
      "execution_count": 29,
      "outputs": [
        {
          "output_type": "execute_result",
          "data": {
            "text/plain": [
              "tensor([[1., 2., 3.],\n",
              "        [4., 5., 6.]])"
            ]
          },
          "metadata": {},
          "execution_count": 29
        }
      ]
    },
    {
      "cell_type": "markdown",
      "source": [
        "# MATHEMATICAL OPERATIONS"
      ],
      "metadata": {
        "id": "ZNp6naKCwMVP"
      }
    },
    {
      "cell_type": "markdown",
      "source": [
        "\n",
        "1 SCALER OPERATIONS"
      ],
      "metadata": {
        "id": "Qx2R7T7YwRZt"
      }
    },
    {
      "cell_type": "code",
      "source": [
        "x=torch.rand(2,2)\n",
        "x"
      ],
      "metadata": {
        "colab": {
          "base_uri": "https://localhost:8080/"
        },
        "id": "H8OFj3gxv1v-",
        "outputId": "fde623bc-ac6e-47ca-d355-a8872a927141"
      },
      "execution_count": 31,
      "outputs": [
        {
          "output_type": "execute_result",
          "data": {
            "text/plain": [
              "tensor([[0.2239, 0.3023],\n",
              "        [0.1784, 0.8238]])"
            ]
          },
          "metadata": {},
          "execution_count": 31
        }
      ]
    },
    {
      "cell_type": "code",
      "source": [
        "# ADDITION\n",
        "print(x+2)\n",
        "# SUBTRACTION\n",
        "print(x-2)\n",
        "# DIVISION\n",
        "print(x/2)\n",
        "# MULTIPICATION\n",
        "print(x*2)\n",
        "# INT DIVISION\n",
        "print((x*100)/3)\n",
        "# MOD\n",
        "print(((x*100//3))%2)\n",
        "# POWER\n",
        "print(x**2)"
      ],
      "metadata": {
        "colab": {
          "base_uri": "https://localhost:8080/"
        },
        "id": "umTQEjZIwZj5",
        "outputId": "91875b7d-9081-4527-b1da-e06abc87a04e"
      },
      "execution_count": 32,
      "outputs": [
        {
          "output_type": "stream",
          "name": "stdout",
          "text": [
            "tensor([[2.2239, 2.3023],\n",
            "        [2.1784, 2.8238]])\n",
            "tensor([[-1.7761, -1.6977],\n",
            "        [-1.8216, -1.1762]])\n",
            "tensor([[0.1119, 0.1512],\n",
            "        [0.0892, 0.4119]])\n",
            "tensor([[0.4478, 0.6047],\n",
            "        [0.3568, 1.6477]])\n",
            "tensor([[ 7.4631, 10.0782],\n",
            "        [ 5.9473, 27.4615]])\n",
            "tensor([[1., 0.],\n",
            "        [1., 1.]])\n",
            "tensor([[0.0501, 0.0914],\n",
            "        [0.0318, 0.6787]])\n"
          ]
        }
      ]
    },
    {
      "cell_type": "markdown",
      "source": [
        "2. ELEMENTWISE OPERATIONS"
      ],
      "metadata": {
        "id": "gT0pu7BOxVOM"
      }
    },
    {
      "cell_type": "code",
      "source": [
        "a=torch.rand(2,3)\n",
        "b=torch.rand(2,3)\n",
        "print(a)\n",
        "print(b)"
      ],
      "metadata": {
        "colab": {
          "base_uri": "https://localhost:8080/"
        },
        "id": "uIE2kDH3xP-l",
        "outputId": "70c4e188-be00-4442-b18d-1e8d9c1f5945"
      },
      "execution_count": 33,
      "outputs": [
        {
          "output_type": "stream",
          "name": "stdout",
          "text": [
            "tensor([[0.5557, 0.9770, 0.4440],\n",
            "        [0.9478, 0.7445, 0.4892]])\n",
            "tensor([[0.2426, 0.7003, 0.5277],\n",
            "        [0.2472, 0.7909, 0.4235]])\n"
          ]
        }
      ]
    },
    {
      "cell_type": "code",
      "source": [
        "# ADD\n",
        "print(a+b)\n",
        "# SUB\n",
        "print(a-b)\n",
        "# DIV\n",
        "print(a/b)\n",
        "#POWER\n",
        "print(a**b)\n",
        "# MOD\n",
        "print(a%b)"
      ],
      "metadata": {
        "colab": {
          "base_uri": "https://localhost:8080/"
        },
        "id": "gqKCvlvqxe6g",
        "outputId": "21007943-33fe-4e8b-e393-ace60f5c89aa"
      },
      "execution_count": 34,
      "outputs": [
        {
          "output_type": "stream",
          "name": "stdout",
          "text": [
            "tensor([[0.7983, 1.6774, 0.9717],\n",
            "        [1.1950, 1.5354, 0.9127]])\n",
            "tensor([[ 0.3132,  0.2767, -0.0837],\n",
            "        [ 0.7007, -0.0464,  0.0657]])\n",
            "tensor([[2.2912, 1.3951, 0.8415],\n",
            "        [3.8346, 0.9413, 1.1552]])\n",
            "tensor([[0.8672, 0.9839, 0.6515],\n",
            "        [0.9868, 0.7919, 0.7388]])\n",
            "tensor([[0.0706, 0.2767, 0.4440],\n",
            "        [0.2063, 0.7445, 0.0657]])\n"
          ]
        }
      ]
    },
    {
      "cell_type": "code",
      "source": [
        "c=torch.tensor([-1,-2,3,4])\n",
        "c"
      ],
      "metadata": {
        "colab": {
          "base_uri": "https://localhost:8080/"
        },
        "id": "_im9YF4HxyCJ",
        "outputId": "68705698-4bab-4e84-f4f0-f98edafedb9c"
      },
      "execution_count": 36,
      "outputs": [
        {
          "output_type": "execute_result",
          "data": {
            "text/plain": [
              "tensor([-1, -2,  3,  4])"
            ]
          },
          "metadata": {},
          "execution_count": 36
        }
      ]
    },
    {
      "cell_type": "code",
      "source": [
        "# ABS\n",
        "torch.abs(c)"
      ],
      "metadata": {
        "colab": {
          "base_uri": "https://localhost:8080/"
        },
        "id": "mXUVfq_Cx9XN",
        "outputId": "c531ab83-ccb8-424b-e7fe-d765d6aa67a1"
      },
      "execution_count": 37,
      "outputs": [
        {
          "output_type": "execute_result",
          "data": {
            "text/plain": [
              "tensor([1, 2, 3, 4])"
            ]
          },
          "metadata": {},
          "execution_count": 37
        }
      ]
    },
    {
      "cell_type": "code",
      "source": [
        "# NEGATIVE\n",
        "torch.neg(c)"
      ],
      "metadata": {
        "colab": {
          "base_uri": "https://localhost:8080/"
        },
        "id": "Doah_hefyGBx",
        "outputId": "a3dd2260-4017-4bd9-e8ce-aa6a301f2e1b"
      },
      "execution_count": 38,
      "outputs": [
        {
          "output_type": "execute_result",
          "data": {
            "text/plain": [
              "tensor([ 1,  2, -3, -4])"
            ]
          },
          "metadata": {},
          "execution_count": 38
        }
      ]
    },
    {
      "cell_type": "code",
      "source": [
        "d=torch.tensor([1.9,2.3,3.7,4.4])\n",
        "d"
      ],
      "metadata": {
        "colab": {
          "base_uri": "https://localhost:8080/"
        },
        "id": "rKj4HyxxyJb4",
        "outputId": "ed86a394-e90b-4896-cd8e-1f53e3e3c5b1"
      },
      "execution_count": 39,
      "outputs": [
        {
          "output_type": "execute_result",
          "data": {
            "text/plain": [
              "tensor([1.9000, 2.3000, 3.7000, 4.4000])"
            ]
          },
          "metadata": {},
          "execution_count": 39
        }
      ]
    },
    {
      "cell_type": "code",
      "source": [
        "# ROUND\n",
        "torch.round(d)"
      ],
      "metadata": {
        "colab": {
          "base_uri": "https://localhost:8080/"
        },
        "id": "DAvR-xV3ySe1",
        "outputId": "910f21e6-2f2f-4a28-d138-41e991bbf524"
      },
      "execution_count": 40,
      "outputs": [
        {
          "output_type": "execute_result",
          "data": {
            "text/plain": [
              "tensor([2., 2., 4., 4.])"
            ]
          },
          "metadata": {},
          "execution_count": 40
        }
      ]
    },
    {
      "cell_type": "code",
      "source": [
        "# CEIL\n",
        "torch.ceil(d)"
      ],
      "metadata": {
        "colab": {
          "base_uri": "https://localhost:8080/"
        },
        "id": "OngrwxVxyWg7",
        "outputId": "c0564d45-14b7-4494-f202-3c292f1c36ce"
      },
      "execution_count": 41,
      "outputs": [
        {
          "output_type": "execute_result",
          "data": {
            "text/plain": [
              "tensor([2., 3., 4., 5.])"
            ]
          },
          "metadata": {},
          "execution_count": 41
        }
      ]
    },
    {
      "cell_type": "code",
      "source": [
        "# FLOOR\n",
        "torch.floor(d)"
      ],
      "metadata": {
        "colab": {
          "base_uri": "https://localhost:8080/"
        },
        "id": "tvmrVuKLyaTi",
        "outputId": "24080809-44fd-4749-f861-2dfb0e509507"
      },
      "execution_count": 42,
      "outputs": [
        {
          "output_type": "execute_result",
          "data": {
            "text/plain": [
              "tensor([1., 2., 3., 4.])"
            ]
          },
          "metadata": {},
          "execution_count": 42
        }
      ]
    },
    {
      "cell_type": "code",
      "source": [
        "# CLAMP\n",
        "torch.clamp(d,min=2,max=3)"
      ],
      "metadata": {
        "colab": {
          "base_uri": "https://localhost:8080/"
        },
        "id": "JCe167TOydDZ",
        "outputId": "2971c514-f129-4255-b39f-6b2c56189cef"
      },
      "execution_count": 43,
      "outputs": [
        {
          "output_type": "execute_result",
          "data": {
            "text/plain": [
              "tensor([2.0000, 2.3000, 3.0000, 3.0000])"
            ]
          },
          "metadata": {},
          "execution_count": 43
        }
      ]
    },
    {
      "cell_type": "markdown",
      "source": [
        "3 .REDUCTION OPERATIONS"
      ],
      "metadata": {
        "id": "qC8hHO5yylP3"
      }
    },
    {
      "cell_type": "code",
      "source": [
        "e=torch.randint(size=(2,3),low=0,high=10,dtype=torch.float32)\n",
        "e"
      ],
      "metadata": {
        "colab": {
          "base_uri": "https://localhost:8080/"
        },
        "id": "bJPcktfqyi1P",
        "outputId": "3497e4be-7f53-4bc0-af16-47d6328ccae0"
      },
      "execution_count": 47,
      "outputs": [
        {
          "output_type": "execute_result",
          "data": {
            "text/plain": [
              "tensor([[5., 7., 5.],\n",
              "        [9., 9., 7.]])"
            ]
          },
          "metadata": {},
          "execution_count": 47
        }
      ]
    },
    {
      "cell_type": "code",
      "source": [
        "# SUM\n",
        "print(torch.sum(e))\n",
        "# ALONG THE COLUMNS WISE\n",
        "print(torch.sum(e,dim=0))\n",
        "# ALONG THE ROWS WISE\n",
        "print(torch.sum(e,dim=1))"
      ],
      "metadata": {
        "colab": {
          "base_uri": "https://localhost:8080/"
        },
        "id": "JfN4zeqwywgK",
        "outputId": "5e285a1e-bddc-4aeb-adb2-8a4b748521fd"
      },
      "execution_count": 48,
      "outputs": [
        {
          "output_type": "stream",
          "name": "stdout",
          "text": [
            "tensor(42.)\n",
            "tensor([14., 16., 12.])\n",
            "tensor([17., 25.])\n"
          ]
        }
      ]
    },
    {
      "cell_type": "code",
      "source": [
        "# MEAN\n",
        "print(torch.mean(e))\n",
        "# MEAN ACROSS COL\n",
        "print(torch.mean(e,dim=0))\n",
        "# MEAN ACROSS ROW\n",
        "print(torch.mean(e,dim=1))\n"
      ],
      "metadata": {
        "colab": {
          "base_uri": "https://localhost:8080/"
        },
        "id": "cXZNTxyby8bu",
        "outputId": "17dd0b06-70cf-4607-cfed-984f1faf2224"
      },
      "execution_count": 50,
      "outputs": [
        {
          "output_type": "stream",
          "name": "stdout",
          "text": [
            "tensor(7.)\n",
            "tensor([7., 8., 6.])\n",
            "tensor([5.6667, 8.3333])\n"
          ]
        }
      ]
    },
    {
      "cell_type": "code",
      "source": [
        "# MEDIAN\n",
        "torch.median(e)"
      ],
      "metadata": {
        "colab": {
          "base_uri": "https://localhost:8080/"
        },
        "id": "-bAFlsk0zMzP",
        "outputId": "3302761c-fd65-4d1b-93d7-3f2289f22cc8"
      },
      "execution_count": 51,
      "outputs": [
        {
          "output_type": "execute_result",
          "data": {
            "text/plain": [
              "tensor(7.)"
            ]
          },
          "metadata": {},
          "execution_count": 51
        }
      ]
    },
    {
      "cell_type": "code",
      "source": [
        "# MAX AND MIN\n",
        "print(torch.max(e))\n",
        "print(torch.min(e))\n"
      ],
      "metadata": {
        "colab": {
          "base_uri": "https://localhost:8080/"
        },
        "id": "OwRIdcqUzqeE",
        "outputId": "2fb94f20-c897-41bc-f50a-4eac48478199"
      },
      "execution_count": 52,
      "outputs": [
        {
          "output_type": "stream",
          "name": "stdout",
          "text": [
            "tensor(9.)\n",
            "tensor(5.)\n"
          ]
        }
      ]
    },
    {
      "cell_type": "code",
      "source": [
        "# PRODUCT\n",
        "torch.prod(e)"
      ],
      "metadata": {
        "colab": {
          "base_uri": "https://localhost:8080/"
        },
        "id": "CnJ9qXLSzuLj",
        "outputId": "cde04a99-867d-40ef-8169-f0645e7a65f1"
      },
      "execution_count": 53,
      "outputs": [
        {
          "output_type": "execute_result",
          "data": {
            "text/plain": [
              "tensor(99225.)"
            ]
          },
          "metadata": {},
          "execution_count": 53
        }
      ]
    },
    {
      "cell_type": "code",
      "source": [
        "# STANDARAD DEVIATION\n",
        "torch.std(e)"
      ],
      "metadata": {
        "colab": {
          "base_uri": "https://localhost:8080/"
        },
        "id": "1UPjqvJezyVR",
        "outputId": "466cf627-58e4-41ce-dacc-cce1d23807e7"
      },
      "execution_count": 54,
      "outputs": [
        {
          "output_type": "execute_result",
          "data": {
            "text/plain": [
              "tensor(1.7889)"
            ]
          },
          "metadata": {},
          "execution_count": 54
        }
      ]
    },
    {
      "cell_type": "code",
      "source": [
        "# VARIANCE\n",
        "torch.var(e)"
      ],
      "metadata": {
        "colab": {
          "base_uri": "https://localhost:8080/"
        },
        "id": "XaIVMKYVz42X",
        "outputId": "e77254ad-e49b-4ad9-ceda-054f7b018f1c"
      },
      "execution_count": 55,
      "outputs": [
        {
          "output_type": "execute_result",
          "data": {
            "text/plain": [
              "tensor(3.2000)"
            ]
          },
          "metadata": {},
          "execution_count": 55
        }
      ]
    },
    {
      "cell_type": "code",
      "source": [
        "e"
      ],
      "metadata": {
        "colab": {
          "base_uri": "https://localhost:8080/"
        },
        "id": "A8BV2NvK0THm",
        "outputId": "a3ff6edf-f273-4411-87a1-580c021413c3"
      },
      "execution_count": 59,
      "outputs": [
        {
          "output_type": "execute_result",
          "data": {
            "text/plain": [
              "tensor([[5., 7., 5.],\n",
              "        [9., 9., 7.]])"
            ]
          },
          "metadata": {},
          "execution_count": 59
        }
      ]
    },
    {
      "cell_type": "code",
      "source": [
        "# AGRMAX\n",
        "torch.argmax(e)"
      ],
      "metadata": {
        "colab": {
          "base_uri": "https://localhost:8080/"
        },
        "id": "i3zaTauW0Cpj",
        "outputId": "b020cba2-c7be-44de-f590-e03cf8d7b65f"
      },
      "execution_count": 57,
      "outputs": [
        {
          "output_type": "execute_result",
          "data": {
            "text/plain": [
              "tensor(3)"
            ]
          },
          "metadata": {},
          "execution_count": 57
        }
      ]
    },
    {
      "cell_type": "code",
      "source": [
        "# ARGMIN\n",
        "torch.argmin(e)"
      ],
      "metadata": {
        "colab": {
          "base_uri": "https://localhost:8080/"
        },
        "id": "NpCIZ5-e0HIq",
        "outputId": "01790f4d-3fe3-499d-a53b-ef3e2e009328"
      },
      "execution_count": 58,
      "outputs": [
        {
          "output_type": "execute_result",
          "data": {
            "text/plain": [
              "tensor(0)"
            ]
          },
          "metadata": {},
          "execution_count": 58
        }
      ]
    },
    {
      "cell_type": "markdown",
      "source": [
        "4. MATRIX OPERATIONS"
      ],
      "metadata": {
        "id": "wM605oyJ0dXK"
      }
    },
    {
      "cell_type": "code",
      "source": [
        "f=torch.randint(size=(2,3),low=0,high=10)\n",
        "g=torch.randint(size=(3,2),low=0,high=10)\n",
        "print(f)\n",
        "print(g)"
      ],
      "metadata": {
        "colab": {
          "base_uri": "https://localhost:8080/"
        },
        "id": "GTAaJiB40QZ2",
        "outputId": "48ec4514-4435-4951-988e-1a2e3e5bd8dc"
      },
      "execution_count": 60,
      "outputs": [
        {
          "output_type": "stream",
          "name": "stdout",
          "text": [
            "tensor([[5, 9, 8],\n",
            "        [9, 7, 9]])\n",
            "tensor([[2, 6],\n",
            "        [7, 7],\n",
            "        [8, 3]])\n"
          ]
        }
      ]
    },
    {
      "cell_type": "code",
      "source": [
        "# MATRIX MULTIPICATION\n",
        "torch.matmul(f,g)"
      ],
      "metadata": {
        "colab": {
          "base_uri": "https://localhost:8080/"
        },
        "id": "YFj6oX3n0mfu",
        "outputId": "1acf8724-e7ea-4636-d441-481a296811c5"
      },
      "execution_count": 61,
      "outputs": [
        {
          "output_type": "execute_result",
          "data": {
            "text/plain": [
              "tensor([[137, 117],\n",
              "        [139, 130]])"
            ]
          },
          "metadata": {},
          "execution_count": 61
        }
      ]
    },
    {
      "cell_type": "code",
      "source": [
        "vector1=torch.tensor([1,2])\n",
        "vector2=torch.tensor([3,4])\n",
        "# DOT PRODUCT\n",
        "torch.dot(vector1,vector2)"
      ],
      "metadata": {
        "colab": {
          "base_uri": "https://localhost:8080/"
        },
        "id": "qdrCMaYj00F5",
        "outputId": "6193d982-707b-4367-c532-f7dd63f757d5"
      },
      "execution_count": 62,
      "outputs": [
        {
          "output_type": "execute_result",
          "data": {
            "text/plain": [
              "tensor(11)"
            ]
          },
          "metadata": {},
          "execution_count": 62
        }
      ]
    },
    {
      "cell_type": "code",
      "source": [
        "f"
      ],
      "metadata": {
        "colab": {
          "base_uri": "https://localhost:8080/"
        },
        "id": "Zi9XijU71oH3",
        "outputId": "845e3249-3e50-46fd-be04-bf48e7a5ed9a"
      },
      "execution_count": 63,
      "outputs": [
        {
          "output_type": "execute_result",
          "data": {
            "text/plain": [
              "tensor([[5, 9, 8],\n",
              "        [9, 7, 9]])"
            ]
          },
          "metadata": {},
          "execution_count": 63
        }
      ]
    },
    {
      "cell_type": "code",
      "source": [
        "# TRANSPOSE\n",
        "torch.transpose(f,0,1)"
      ],
      "metadata": {
        "colab": {
          "base_uri": "https://localhost:8080/"
        },
        "id": "3jpa8MBR1Vrd",
        "outputId": "2cf673ed-f1b5-4a0a-a1fd-7d8768ac899b"
      },
      "execution_count": 64,
      "outputs": [
        {
          "output_type": "execute_result",
          "data": {
            "text/plain": [
              "tensor([[5, 9],\n",
              "        [9, 7],\n",
              "        [8, 9]])"
            ]
          },
          "metadata": {},
          "execution_count": 64
        }
      ]
    },
    {
      "cell_type": "code",
      "source": [
        "h=torch.randint(size=(3,3),low=0,high=10,dtype=torch.float32)\n",
        "h"
      ],
      "metadata": {
        "colab": {
          "base_uri": "https://localhost:8080/"
        },
        "id": "shzFCzf41smU",
        "outputId": "46fd65af-7d51-40fa-9397-8036df8c1296"
      },
      "execution_count": 68,
      "outputs": [
        {
          "output_type": "execute_result",
          "data": {
            "text/plain": [
              "tensor([[2., 9., 5.],\n",
              "        [0., 4., 2.],\n",
              "        [7., 1., 1.]])"
            ]
          },
          "metadata": {},
          "execution_count": 68
        }
      ]
    },
    {
      "cell_type": "code",
      "source": [
        "# DETERMINANT\n",
        "torch.det(h)"
      ],
      "metadata": {
        "colab": {
          "base_uri": "https://localhost:8080/"
        },
        "id": "Dy_nBZlE11tL",
        "outputId": "1dfcfd20-f47e-4f4e-d6c5-1db2e0c3a222"
      },
      "execution_count": 70,
      "outputs": [
        {
          "output_type": "execute_result",
          "data": {
            "text/plain": [
              "tensor(-10.0000)"
            ]
          },
          "metadata": {},
          "execution_count": 70
        }
      ]
    },
    {
      "cell_type": "code",
      "source": [
        "# INVERSE\n",
        "torch.inverse(h)"
      ],
      "metadata": {
        "colab": {
          "base_uri": "https://localhost:8080/"
        },
        "id": "beuMlHeQ1992",
        "outputId": "0f510199-e8fb-43ae-8094-de4cf31ee0fc"
      },
      "execution_count": 71,
      "outputs": [
        {
          "output_type": "execute_result",
          "data": {
            "text/plain": [
              "tensor([[-0.2000,  0.4000,  0.2000],\n",
              "        [-1.4000,  3.3000,  0.4000],\n",
              "        [ 2.8000, -6.1000, -0.8000]])"
            ]
          },
          "metadata": {},
          "execution_count": 71
        }
      ]
    },
    {
      "cell_type": "markdown",
      "source": [
        "5. COMPARSION OPERATIONS"
      ],
      "metadata": {
        "id": "IQ3_CzM32UZv"
      }
    },
    {
      "cell_type": "code",
      "source": [
        "i=torch.randint(size=(2,3),low=0,high=10)\n",
        "j=torch.randint(size=(2,3),low=0,high=10)\n",
        "print(i)\n",
        "print(j)"
      ],
      "metadata": {
        "colab": {
          "base_uri": "https://localhost:8080/"
        },
        "id": "VgE8_YCY2Qmo",
        "outputId": "e5394efe-5f91-4d9e-82fc-1cfc272bd357"
      },
      "execution_count": 72,
      "outputs": [
        {
          "output_type": "stream",
          "name": "stdout",
          "text": [
            "tensor([[5, 4, 4],\n",
            "        [1, 1, 2]])\n",
            "tensor([[4, 7, 2],\n",
            "        [5, 6, 1]])\n"
          ]
        }
      ]
    },
    {
      "cell_type": "code",
      "source": [
        "# GREATER THAN\n",
        "print(i>j)\n",
        "# LESS THAN\n",
        "print(i<j)\n",
        "# EQUAL TO\n",
        "print(i==j)\n",
        "# GREATER THAN EQUAL TO\n",
        "print(i>=j)\n",
        "# LESS THAN EQUAL TO\n",
        "print(i<=j)\n",
        "# NOT EQUAL TO\n",
        "print(i!=j)\n"
      ],
      "metadata": {
        "colab": {
          "base_uri": "https://localhost:8080/"
        },
        "id": "UYyKFiyv2fzR",
        "outputId": "f43355a0-3fc7-446e-a3f7-6fa272aececd"
      },
      "execution_count": 75,
      "outputs": [
        {
          "output_type": "stream",
          "name": "stdout",
          "text": [
            "tensor([[ True, False,  True],\n",
            "        [False, False,  True]])\n",
            "tensor([[False,  True, False],\n",
            "        [ True,  True, False]])\n",
            "tensor([[False, False, False],\n",
            "        [False, False, False]])\n",
            "tensor([[ True, False,  True],\n",
            "        [False, False,  True]])\n",
            "tensor([[False,  True, False],\n",
            "        [ True,  True, False]])\n",
            "tensor([[True, True, True],\n",
            "        [True, True, True]])\n"
          ]
        }
      ]
    },
    {
      "cell_type": "markdown",
      "source": [
        "# SPECIAL FUNCTIONS"
      ],
      "metadata": {
        "id": "Bt6alGS421Oq"
      }
    },
    {
      "cell_type": "code",
      "source": [
        "k=torch.randint(size=(2,3),low=0,high=10,dtype=torch.float32)\n",
        "k"
      ],
      "metadata": {
        "colab": {
          "base_uri": "https://localhost:8080/"
        },
        "id": "CC7mw0IH2kso",
        "outputId": "53bc0412-f905-4416-8ce2-3810579a9391"
      },
      "execution_count": 82,
      "outputs": [
        {
          "output_type": "execute_result",
          "data": {
            "text/plain": [
              "tensor([[1., 0., 2.],\n",
              "        [1., 2., 7.]])"
            ]
          },
          "metadata": {},
          "execution_count": 82
        }
      ]
    },
    {
      "cell_type": "code",
      "source": [
        "# LOG\n",
        "torch.log(k)"
      ],
      "metadata": {
        "colab": {
          "base_uri": "https://localhost:8080/"
        },
        "id": "JUrvQh1927PI",
        "outputId": "344af785-6351-4ded-e1a1-cda3ae109781"
      },
      "execution_count": 77,
      "outputs": [
        {
          "output_type": "execute_result",
          "data": {
            "text/plain": [
              "tensor([[1.3863, 1.6094, 1.7918],\n",
              "        [2.1972, 0.6931, 1.0986]])"
            ]
          },
          "metadata": {},
          "execution_count": 77
        }
      ]
    },
    {
      "cell_type": "code",
      "source": [
        "# EXP\n",
        "torch.exp(k)"
      ],
      "metadata": {
        "colab": {
          "base_uri": "https://localhost:8080/"
        },
        "id": "VKcl7Jv_2-HG",
        "outputId": "5306b718-9276-4991-be0e-f42cbdd2f877"
      },
      "execution_count": 78,
      "outputs": [
        {
          "output_type": "execute_result",
          "data": {
            "text/plain": [
              "tensor([[5.4598e+01, 1.4841e+02, 4.0343e+02],\n",
              "        [8.1031e+03, 7.3891e+00, 2.0086e+01]])"
            ]
          },
          "metadata": {},
          "execution_count": 78
        }
      ]
    },
    {
      "cell_type": "code",
      "source": [
        "# SQRT\n",
        "torch.sqrt(k)"
      ],
      "metadata": {
        "colab": {
          "base_uri": "https://localhost:8080/"
        },
        "id": "a8Ke0EN13A5G",
        "outputId": "e92a147d-31a9-49d5-b796-4a5a3793d220"
      },
      "execution_count": 79,
      "outputs": [
        {
          "output_type": "execute_result",
          "data": {
            "text/plain": [
              "tensor([[2.0000, 2.2361, 2.4495],\n",
              "        [3.0000, 1.4142, 1.7321]])"
            ]
          },
          "metadata": {},
          "execution_count": 79
        }
      ]
    },
    {
      "cell_type": "code",
      "source": [
        "# SIGMOID\n",
        "torch.sigmoid(k)"
      ],
      "metadata": {
        "colab": {
          "base_uri": "https://localhost:8080/"
        },
        "id": "ylSxkal73DNc",
        "outputId": "b73b6224-b53e-466a-c731-038d073aa1e3"
      },
      "execution_count": 80,
      "outputs": [
        {
          "output_type": "execute_result",
          "data": {
            "text/plain": [
              "tensor([[0.9820, 0.9933, 0.9975],\n",
              "        [0.9999, 0.8808, 0.9526]])"
            ]
          },
          "metadata": {},
          "execution_count": 80
        }
      ]
    },
    {
      "cell_type": "code",
      "source": [
        "# SOFTMAX\n",
        "torch.softmax(k,dim=0)"
      ],
      "metadata": {
        "colab": {
          "base_uri": "https://localhost:8080/"
        },
        "id": "7cSMAq_-3G_s",
        "outputId": "c77f04e0-b578-496e-a88d-359e7002e860"
      },
      "execution_count": 83,
      "outputs": [
        {
          "output_type": "execute_result",
          "data": {
            "text/plain": [
              "tensor([[0.5000, 0.1192, 0.0067],\n",
              "        [0.5000, 0.8808, 0.9933]])"
            ]
          },
          "metadata": {},
          "execution_count": 83
        }
      ]
    },
    {
      "cell_type": "code",
      "source": [
        "k"
      ],
      "metadata": {
        "colab": {
          "base_uri": "https://localhost:8080/"
        },
        "id": "6BynIFmd3b4t",
        "outputId": "eae4166f-a673-4679-d053-b946bd6927b0"
      },
      "execution_count": 85,
      "outputs": [
        {
          "output_type": "execute_result",
          "data": {
            "text/plain": [
              "tensor([[1., 0., 2.],\n",
              "        [1., 2., 7.]])"
            ]
          },
          "metadata": {},
          "execution_count": 85
        }
      ]
    },
    {
      "cell_type": "code",
      "source": [
        "# RELU\n",
        "torch.relu(k)"
      ],
      "metadata": {
        "colab": {
          "base_uri": "https://localhost:8080/"
        },
        "id": "Hpumbd8D3K8C",
        "outputId": "a62e3f1c-fbce-4420-9ef7-dd1282e9b02c"
      },
      "execution_count": 84,
      "outputs": [
        {
          "output_type": "execute_result",
          "data": {
            "text/plain": [
              "tensor([[1., 0., 2.],\n",
              "        [1., 2., 7.]])"
            ]
          },
          "metadata": {},
          "execution_count": 84
        }
      ]
    },
    {
      "cell_type": "markdown",
      "source": [
        "# INPLACE OPERATIONS"
      ],
      "metadata": {
        "id": "BXBSUh0r3jzp"
      }
    },
    {
      "cell_type": "code",
      "source": [
        "m=torch.rand(size=(2,3))\n",
        "n=torch.rand(size=(2,3))\n",
        "print(m)\n",
        "print(n)\n"
      ],
      "metadata": {
        "colab": {
          "base_uri": "https://localhost:8080/"
        },
        "id": "maS2w_F13YHF",
        "outputId": "8af77808-85d3-4405-d82f-e1b095df76c0"
      },
      "execution_count": 87,
      "outputs": [
        {
          "output_type": "stream",
          "name": "stdout",
          "text": [
            "tensor([[0.9112, 0.4847, 0.9436],\n",
            "        [0.3904, 0.2499, 0.3206]])\n",
            "tensor([[0.9753, 0.7582, 0.6688],\n",
            "        [0.2651, 0.2336, 0.5057]])\n"
          ]
        }
      ]
    },
    {
      "cell_type": "code",
      "source": [
        "m+n"
      ],
      "metadata": {
        "colab": {
          "base_uri": "https://localhost:8080/"
        },
        "id": "DGOOx_9x3sWl",
        "outputId": "c5e8c0f5-5add-4f43-8b2a-93fdeacaf500"
      },
      "execution_count": 88,
      "outputs": [
        {
          "output_type": "execute_result",
          "data": {
            "text/plain": [
              "tensor([[1.8865, 1.2429, 1.6124],\n",
              "        [0.6556, 0.4835, 0.8263]])"
            ]
          },
          "metadata": {},
          "execution_count": 88
        }
      ]
    },
    {
      "cell_type": "code",
      "source": [
        "m.add_(n)"
      ],
      "metadata": {
        "colab": {
          "base_uri": "https://localhost:8080/"
        },
        "id": "HThvvcm634GZ",
        "outputId": "86d1710f-67f2-45a8-813b-647c95429786"
      },
      "execution_count": 89,
      "outputs": [
        {
          "output_type": "execute_result",
          "data": {
            "text/plain": [
              "tensor([[1.8865, 1.2429, 1.6124],\n",
              "        [0.6556, 0.4835, 0.8263]])"
            ]
          },
          "metadata": {},
          "execution_count": 89
        }
      ]
    },
    {
      "cell_type": "code",
      "source": [
        "m"
      ],
      "metadata": {
        "colab": {
          "base_uri": "https://localhost:8080/"
        },
        "id": "t6t3tfxi4WrW",
        "outputId": "775cbac2-9268-4ed1-bc30-1d0ff4ec9582"
      },
      "execution_count": 90,
      "outputs": [
        {
          "output_type": "execute_result",
          "data": {
            "text/plain": [
              "tensor([[1.8865, 1.2429, 1.6124],\n",
              "        [0.6556, 0.4835, 0.8263]])"
            ]
          },
          "metadata": {},
          "execution_count": 90
        }
      ]
    },
    {
      "cell_type": "code",
      "source": [
        "torch.relu(m)"
      ],
      "metadata": {
        "colab": {
          "base_uri": "https://localhost:8080/"
        },
        "id": "JLlLYCp14YC2",
        "outputId": "880d3a0e-daad-4e38-9d7f-4313ca529c44"
      },
      "execution_count": 91,
      "outputs": [
        {
          "output_type": "execute_result",
          "data": {
            "text/plain": [
              "tensor([[1.8865, 1.2429, 1.6124],\n",
              "        [0.6556, 0.4835, 0.8263]])"
            ]
          },
          "metadata": {},
          "execution_count": 91
        }
      ]
    },
    {
      "cell_type": "code",
      "source": [
        "m.relu_()"
      ],
      "metadata": {
        "colab": {
          "base_uri": "https://localhost:8080/"
        },
        "id": "LaTXeTgx4krZ",
        "outputId": "67b61fd6-4a29-49f1-b687-0f6ec668061e"
      },
      "execution_count": 92,
      "outputs": [
        {
          "output_type": "execute_result",
          "data": {
            "text/plain": [
              "tensor([[1.8865, 1.2429, 1.6124],\n",
              "        [0.6556, 0.4835, 0.8263]])"
            ]
          },
          "metadata": {},
          "execution_count": 92
        }
      ]
    },
    {
      "cell_type": "code",
      "source": [
        "m"
      ],
      "metadata": {
        "colab": {
          "base_uri": "https://localhost:8080/"
        },
        "id": "F49ErnCl4oe_",
        "outputId": "ef98bee2-cae9-4140-fd72-549bc68d1706"
      },
      "execution_count": 93,
      "outputs": [
        {
          "output_type": "execute_result",
          "data": {
            "text/plain": [
              "tensor([[1.8865, 1.2429, 1.6124],\n",
              "        [0.6556, 0.4835, 0.8263]])"
            ]
          },
          "metadata": {},
          "execution_count": 93
        }
      ]
    },
    {
      "cell_type": "markdown",
      "source": [
        "COPYING A TENSOR"
      ],
      "metadata": {
        "id": "qBWUEBtr4yus"
      }
    },
    {
      "cell_type": "code",
      "source": [
        "a=torch.rand(2,3)\n",
        "a"
      ],
      "metadata": {
        "colab": {
          "base_uri": "https://localhost:8080/"
        },
        "id": "MgrSruAS4puX",
        "outputId": "dbe35a17-8deb-4795-ddcd-e21b6750551f"
      },
      "execution_count": 94,
      "outputs": [
        {
          "output_type": "execute_result",
          "data": {
            "text/plain": [
              "tensor([[0.5688, 0.0634, 0.8993],\n",
              "        [0.2732, 0.3397, 0.1879]])"
            ]
          },
          "metadata": {},
          "execution_count": 94
        }
      ]
    },
    {
      "cell_type": "code",
      "source": [
        "b=a"
      ],
      "metadata": {
        "id": "gZBccahS45wJ"
      },
      "execution_count": 95,
      "outputs": []
    },
    {
      "cell_type": "code",
      "source": [
        "b"
      ],
      "metadata": {
        "colab": {
          "base_uri": "https://localhost:8080/"
        },
        "id": "5WFeaAk25CXA",
        "outputId": "458fd13d-72f8-4344-828d-a7048ec1507e"
      },
      "execution_count": 96,
      "outputs": [
        {
          "output_type": "execute_result",
          "data": {
            "text/plain": [
              "tensor([[0.5688, 0.0634, 0.8993],\n",
              "        [0.2732, 0.3397, 0.1879]])"
            ]
          },
          "metadata": {},
          "execution_count": 96
        }
      ]
    },
    {
      "cell_type": "code",
      "source": [
        "a[0][0]=0"
      ],
      "metadata": {
        "id": "h9JqHezj5DMP"
      },
      "execution_count": 97,
      "outputs": []
    },
    {
      "cell_type": "code",
      "source": [
        "a"
      ],
      "metadata": {
        "colab": {
          "base_uri": "https://localhost:8080/"
        },
        "id": "CrM7S6Po5Ijr",
        "outputId": "4cb1def1-5b4f-4433-cb43-8ccbd1320ef6"
      },
      "execution_count": 98,
      "outputs": [
        {
          "output_type": "execute_result",
          "data": {
            "text/plain": [
              "tensor([[0.0000, 0.0634, 0.8993],\n",
              "        [0.2732, 0.3397, 0.1879]])"
            ]
          },
          "metadata": {},
          "execution_count": 98
        }
      ]
    },
    {
      "cell_type": "code",
      "source": [
        "b"
      ],
      "metadata": {
        "colab": {
          "base_uri": "https://localhost:8080/"
        },
        "id": "SlYpMO4S5JJX",
        "outputId": "a626b4ba-f701-4402-d6cb-0114d7c64fc9"
      },
      "execution_count": 99,
      "outputs": [
        {
          "output_type": "execute_result",
          "data": {
            "text/plain": [
              "tensor([[0.0000, 0.0634, 0.8993],\n",
              "        [0.2732, 0.3397, 0.1879]])"
            ]
          },
          "metadata": {},
          "execution_count": 99
        }
      ]
    },
    {
      "cell_type": "code",
      "source": [
        "id(a)"
      ],
      "metadata": {
        "colab": {
          "base_uri": "https://localhost:8080/"
        },
        "id": "G_BhBcbt5KuD",
        "outputId": "a87f175a-1bb0-4d14-9922-5535c6a76a60"
      },
      "execution_count": 100,
      "outputs": [
        {
          "output_type": "execute_result",
          "data": {
            "text/plain": [
              "133629894497984"
            ]
          },
          "metadata": {},
          "execution_count": 100
        }
      ]
    },
    {
      "cell_type": "code",
      "source": [
        "id(b)"
      ],
      "metadata": {
        "colab": {
          "base_uri": "https://localhost:8080/"
        },
        "id": "v9xPaymJ5VQ_",
        "outputId": "6ed335cf-622a-40c1-efff-c01fd62e0d09"
      },
      "execution_count": 101,
      "outputs": [
        {
          "output_type": "execute_result",
          "data": {
            "text/plain": [
              "133629894497984"
            ]
          },
          "metadata": {},
          "execution_count": 101
        }
      ]
    },
    {
      "cell_type": "code",
      "source": [
        "b=a.clone()"
      ],
      "metadata": {
        "id": "L5UD6o8A5WBv"
      },
      "execution_count": 102,
      "outputs": []
    },
    {
      "cell_type": "code",
      "source": [
        "a"
      ],
      "metadata": {
        "colab": {
          "base_uri": "https://localhost:8080/"
        },
        "id": "8vVGdC305dk1",
        "outputId": "a8e2cd99-ef56-4ccb-d4a2-bb346bcd7ceb"
      },
      "execution_count": 103,
      "outputs": [
        {
          "output_type": "execute_result",
          "data": {
            "text/plain": [
              "tensor([[0.0000, 0.0634, 0.8993],\n",
              "        [0.2732, 0.3397, 0.1879]])"
            ]
          },
          "metadata": {},
          "execution_count": 103
        }
      ]
    },
    {
      "cell_type": "code",
      "source": [
        "b"
      ],
      "metadata": {
        "colab": {
          "base_uri": "https://localhost:8080/"
        },
        "id": "BEVkQv1C5eYb",
        "outputId": "6fc70057-3684-454c-8f26-e71ae86a3b50"
      },
      "execution_count": 104,
      "outputs": [
        {
          "output_type": "execute_result",
          "data": {
            "text/plain": [
              "tensor([[0.0000, 0.0634, 0.8993],\n",
              "        [0.2732, 0.3397, 0.1879]])"
            ]
          },
          "metadata": {},
          "execution_count": 104
        }
      ]
    },
    {
      "cell_type": "code",
      "source": [
        "a[0][0]=10"
      ],
      "metadata": {
        "id": "WELm9hrp5ezc"
      },
      "execution_count": 105,
      "outputs": []
    },
    {
      "cell_type": "code",
      "source": [
        "a"
      ],
      "metadata": {
        "colab": {
          "base_uri": "https://localhost:8080/"
        },
        "id": "ifeeiW0k5hMk",
        "outputId": "a69dccaf-cef4-44a0-b203-4124e1579127"
      },
      "execution_count": 106,
      "outputs": [
        {
          "output_type": "execute_result",
          "data": {
            "text/plain": [
              "tensor([[10.0000,  0.0634,  0.8993],\n",
              "        [ 0.2732,  0.3397,  0.1879]])"
            ]
          },
          "metadata": {},
          "execution_count": 106
        }
      ]
    },
    {
      "cell_type": "code",
      "source": [
        "b"
      ],
      "metadata": {
        "colab": {
          "base_uri": "https://localhost:8080/"
        },
        "id": "1He01_2_5hq6",
        "outputId": "474447d9-2e55-4939-9585-c947ab0f3c88"
      },
      "execution_count": 107,
      "outputs": [
        {
          "output_type": "execute_result",
          "data": {
            "text/plain": [
              "tensor([[0.0000, 0.0634, 0.8993],\n",
              "        [0.2732, 0.3397, 0.1879]])"
            ]
          },
          "metadata": {},
          "execution_count": 107
        }
      ]
    },
    {
      "cell_type": "code",
      "source": [
        "id(a)"
      ],
      "metadata": {
        "colab": {
          "base_uri": "https://localhost:8080/"
        },
        "id": "95K1ZP2G5iLk",
        "outputId": "d987153d-41fb-45c5-b685-fa98ca040763"
      },
      "execution_count": 108,
      "outputs": [
        {
          "output_type": "execute_result",
          "data": {
            "text/plain": [
              "133629894497984"
            ]
          },
          "metadata": {},
          "execution_count": 108
        }
      ]
    },
    {
      "cell_type": "code",
      "source": [
        "id(b)"
      ],
      "metadata": {
        "colab": {
          "base_uri": "https://localhost:8080/"
        },
        "id": "l1NCUAZp5keB",
        "outputId": "65f3a1c4-8b0b-4e40-c78b-163f12585c35"
      },
      "execution_count": 109,
      "outputs": [
        {
          "output_type": "execute_result",
          "data": {
            "text/plain": [
              "133629893424160"
            ]
          },
          "metadata": {},
          "execution_count": 109
        }
      ]
    },
    {
      "cell_type": "markdown",
      "source": [
        "TENSOR OPERATION ON GPU"
      ],
      "metadata": {
        "id": "-7Mh9z1p5tEP"
      }
    },
    {
      "cell_type": "code",
      "source": [
        "torch.cuda.is_available()"
      ],
      "metadata": {
        "colab": {
          "base_uri": "https://localhost:8080/"
        },
        "id": "rP9xiKZM5lSh",
        "outputId": "36873790-801e-4928-87ea-f108bd1a28b7"
      },
      "execution_count": 110,
      "outputs": [
        {
          "output_type": "execute_result",
          "data": {
            "text/plain": [
              "True"
            ]
          },
          "metadata": {},
          "execution_count": 110
        }
      ]
    },
    {
      "cell_type": "code",
      "source": [
        "device=torch.device(\"cuda\")\n",
        "device"
      ],
      "metadata": {
        "colab": {
          "base_uri": "https://localhost:8080/"
        },
        "id": "ELYjqa2q54NK",
        "outputId": "c56a6899-1a7a-4291-decb-eed2ca2df204"
      },
      "execution_count": 111,
      "outputs": [
        {
          "output_type": "execute_result",
          "data": {
            "text/plain": [
              "device(type='cuda')"
            ]
          },
          "metadata": {},
          "execution_count": 111
        }
      ]
    },
    {
      "cell_type": "code",
      "source": [
        "# CREATING A NEW TENSOR ON GPU\n",
        "x=torch.rand((2,3),device=device)\n",
        "x"
      ],
      "metadata": {
        "colab": {
          "base_uri": "https://localhost:8080/"
        },
        "id": "AUOPoG7f6Alf",
        "outputId": "c19ba413-d6e2-49ab-bb75-0224c2e0d35b"
      },
      "execution_count": 112,
      "outputs": [
        {
          "output_type": "execute_result",
          "data": {
            "text/plain": [
              "tensor([[0.3563, 0.0303, 0.7088],\n",
              "        [0.2009, 0.0224, 0.9896]], device='cuda:0')"
            ]
          },
          "metadata": {},
          "execution_count": 112
        }
      ]
    },
    {
      "cell_type": "code",
      "source": [
        "# MOVING AN EXISTING TENSOR TO GPU\n",
        "a=torch.rand(2,3)\n",
        "a"
      ],
      "metadata": {
        "colab": {
          "base_uri": "https://localhost:8080/"
        },
        "id": "8dSBeKT16PBB",
        "outputId": "ec4a9cba-db7e-4ec3-b8e7-5437f312579d"
      },
      "execution_count": 113,
      "outputs": [
        {
          "output_type": "execute_result",
          "data": {
            "text/plain": [
              "tensor([[0.5534, 0.2682, 0.9556],\n",
              "        [0.9761, 0.5934, 0.3124]])"
            ]
          },
          "metadata": {},
          "execution_count": 113
        }
      ]
    },
    {
      "cell_type": "code",
      "source": [
        "b=a.to(device)"
      ],
      "metadata": {
        "id": "Mx65ow-Y6Zt1"
      },
      "execution_count": 115,
      "outputs": []
    },
    {
      "cell_type": "code",
      "source": [
        "b+5"
      ],
      "metadata": {
        "colab": {
          "base_uri": "https://localhost:8080/"
        },
        "id": "0QMQW3Nx6i_b",
        "outputId": "39ccf3d1-3619-4a71-97a7-92d8317a0fae"
      },
      "execution_count": 116,
      "outputs": [
        {
          "output_type": "execute_result",
          "data": {
            "text/plain": [
              "tensor([[5.5534, 5.2682, 5.9556],\n",
              "        [5.9761, 5.5934, 5.3124]], device='cuda:0')"
            ]
          },
          "metadata": {},
          "execution_count": 116
        }
      ]
    },
    {
      "cell_type": "code",
      "source": [
        "import time\n",
        "\n",
        "# DEFINE THE SIZE OF THE MATRICES\n",
        "size=1000 #LARGE SIZE FOR PERFORMANCE COMPARSION\n",
        "\n",
        "# CREATE RANDOM MATRICES ON CPU\n",
        "matrix_cpu1=torch.rand(size,size)\n",
        "matrix_cpu2=torch.rand(size,size)\n",
        "\n",
        "# MEASURE THE TIME TAKEN TO MULTIPLY THE MATRICES ON CPU\n",
        "start_time=time.time()\n",
        "# MATIX MUTLIPICATION ON CPU\n",
        "result_cpu=torch.matmul(matrix_cpu1,matrix_cpu2)\n",
        "cpu_time=time.time()-start_time\n",
        "print(f\"Time taken for CPU multiplication: {cpu_time} seconds\")\n",
        "\n",
        "# MOVE MATRICES TO GPU\n",
        "matrix_gpu1=matrix_cpu1.to(device)\n",
        "matrix_gpu2=matrix_cpu2.to(device)\n",
        "\n",
        "# MEASURE THE TIME TAKEN TO MULTIPLY THE MATRICES ON GPU\n",
        "start_time=time.time()\n",
        "# MATIX MUTLIPICATION ON GPU\n",
        "result_gpu=torch.matmul(matrix_gpu1,matrix_gpu2)\n",
        "torch.cuda.synchronize() # ENSURE ALL GPU OPERATIONS ARE COMPELETE\n",
        "gpu_time=time.time()-start_time\n",
        "print(f\"Time taken for GPU multiplication: {gpu_time} seconds\")\n",
        "\n",
        "print(f\"GPU is {cpu_time/gpu_time} times faster than CPU\")"
      ],
      "metadata": {
        "colab": {
          "base_uri": "https://localhost:8080/"
        },
        "id": "93G56dO16kIa",
        "outputId": "3c7d3bd2-8f68-40b4-affe-1cb343c5a29c"
      },
      "execution_count": 120,
      "outputs": [
        {
          "output_type": "stream",
          "name": "stdout",
          "text": [
            "Time taken for CPU multiplication: 0.017346858978271484 seconds\n",
            "Time taken for GPU multiplication: 0.0009746551513671875 seconds\n",
            "GPU is 17.79794520547945 times faster than CPU\n"
          ]
        }
      ]
    },
    {
      "cell_type": "markdown",
      "source": [
        "RESHAPING TENSORS"
      ],
      "metadata": {
        "id": "l2dat1Yn8MpE"
      }
    },
    {
      "cell_type": "code",
      "source": [
        "a=torch.ones(4,4)\n",
        "a"
      ],
      "metadata": {
        "colab": {
          "base_uri": "https://localhost:8080/"
        },
        "id": "zkMhkkvs7YKf",
        "outputId": "4485a654-416b-472d-b83d-1befc935c40e"
      },
      "execution_count": 121,
      "outputs": [
        {
          "output_type": "execute_result",
          "data": {
            "text/plain": [
              "tensor([[1., 1., 1., 1.],\n",
              "        [1., 1., 1., 1.],\n",
              "        [1., 1., 1., 1.],\n",
              "        [1., 1., 1., 1.]])"
            ]
          },
          "metadata": {},
          "execution_count": 121
        }
      ]
    },
    {
      "cell_type": "code",
      "source": [
        "# RESHAPE\n",
        "a.reshape(2,2,2,2)"
      ],
      "metadata": {
        "colab": {
          "base_uri": "https://localhost:8080/"
        },
        "id": "QkZRDioK8Sqb",
        "outputId": "95a42bc5-c55c-44b8-94fa-4a27b041fa16"
      },
      "execution_count": 122,
      "outputs": [
        {
          "output_type": "execute_result",
          "data": {
            "text/plain": [
              "tensor([[[[1., 1.],\n",
              "          [1., 1.]],\n",
              "\n",
              "         [[1., 1.],\n",
              "          [1., 1.]]],\n",
              "\n",
              "\n",
              "        [[[1., 1.],\n",
              "          [1., 1.]],\n",
              "\n",
              "         [[1., 1.],\n",
              "          [1., 1.]]]])"
            ]
          },
          "metadata": {},
          "execution_count": 122
        }
      ]
    },
    {
      "cell_type": "code",
      "source": [
        "# FLATTEN\n",
        "a.flatten()"
      ],
      "metadata": {
        "colab": {
          "base_uri": "https://localhost:8080/"
        },
        "id": "6z36gUhh8hNs",
        "outputId": "cd1e7cab-5d8d-4b02-d681-d0bf959d7e28"
      },
      "execution_count": 123,
      "outputs": [
        {
          "output_type": "execute_result",
          "data": {
            "text/plain": [
              "tensor([1., 1., 1., 1., 1., 1., 1., 1., 1., 1., 1., 1., 1., 1., 1., 1.])"
            ]
          },
          "metadata": {},
          "execution_count": 123
        }
      ]
    },
    {
      "cell_type": "code",
      "source": [
        "b=torch.rand(2,3,4)\n",
        "b"
      ],
      "metadata": {
        "colab": {
          "base_uri": "https://localhost:8080/"
        },
        "id": "zxNNyf8G8neZ",
        "outputId": "034ac493-ef42-4e28-812d-64f7de89d484"
      },
      "execution_count": 124,
      "outputs": [
        {
          "output_type": "execute_result",
          "data": {
            "text/plain": [
              "tensor([[[0.0725, 0.4053, 0.6109, 0.6539],\n",
              "         [0.2027, 0.0298, 0.9324, 0.9879],\n",
              "         [0.1142, 0.5151, 0.3628, 0.9032]],\n",
              "\n",
              "        [[0.8186, 0.7866, 0.6962, 0.8758],\n",
              "         [0.4021, 0.4723, 0.8623, 0.9867],\n",
              "         [0.9557, 0.2597, 0.4822, 0.2435]]])"
            ]
          },
          "metadata": {},
          "execution_count": 124
        }
      ]
    },
    {
      "cell_type": "code",
      "source": [
        "#PERMUATE\n",
        "b.permute(2,0,1)"
      ],
      "metadata": {
        "colab": {
          "base_uri": "https://localhost:8080/"
        },
        "id": "E4h4iceS8tzX",
        "outputId": "1f1f419b-95bb-419a-aa0e-e1495d70077e"
      },
      "execution_count": 125,
      "outputs": [
        {
          "output_type": "execute_result",
          "data": {
            "text/plain": [
              "tensor([[[0.0725, 0.2027, 0.1142],\n",
              "         [0.8186, 0.4021, 0.9557]],\n",
              "\n",
              "        [[0.4053, 0.0298, 0.5151],\n",
              "         [0.7866, 0.4723, 0.2597]],\n",
              "\n",
              "        [[0.6109, 0.9324, 0.3628],\n",
              "         [0.6962, 0.8623, 0.4822]],\n",
              "\n",
              "        [[0.6539, 0.9879, 0.9032],\n",
              "         [0.8758, 0.9867, 0.2435]]])"
            ]
          },
          "metadata": {},
          "execution_count": 125
        }
      ]
    },
    {
      "cell_type": "code",
      "source": [
        "# UNSQUEEZE\n",
        "# IMAGE SIZE\n",
        "c=torch.rand(226,226,3)\n",
        "c"
      ],
      "metadata": {
        "colab": {
          "base_uri": "https://localhost:8080/"
        },
        "id": "ATV7FOw683wj",
        "outputId": "c983597b-e546-42e7-d2fb-9ef55f010be9"
      },
      "execution_count": 126,
      "outputs": [
        {
          "output_type": "execute_result",
          "data": {
            "text/plain": [
              "tensor([[[0.7711, 0.8058, 0.7985],\n",
              "         [0.5763, 0.6000, 0.3298],\n",
              "         [0.0215, 0.6231, 0.8445],\n",
              "         ...,\n",
              "         [0.5048, 0.4370, 0.3643],\n",
              "         [0.0930, 0.8944, 0.2637],\n",
              "         [0.2397, 0.3142, 0.7672]],\n",
              "\n",
              "        [[0.0186, 0.8114, 0.6525],\n",
              "         [0.5602, 0.6544, 0.3092],\n",
              "         [0.9706, 0.9911, 0.6165],\n",
              "         ...,\n",
              "         [0.7550, 0.4344, 0.9511],\n",
              "         [0.8181, 0.7376, 0.9000],\n",
              "         [0.0333, 0.7595, 0.4717]],\n",
              "\n",
              "        [[0.3631, 0.9723, 0.8389],\n",
              "         [0.3497, 0.5625, 0.8555],\n",
              "         [0.7586, 0.4285, 0.2075],\n",
              "         ...,\n",
              "         [0.0187, 0.1206, 0.8592],\n",
              "         [0.6711, 0.9092, 0.2085],\n",
              "         [0.7607, 0.5833, 0.9341]],\n",
              "\n",
              "        ...,\n",
              "\n",
              "        [[0.1169, 0.1945, 0.2781],\n",
              "         [0.4409, 0.4445, 0.3152],\n",
              "         [0.0592, 0.5148, 0.4397],\n",
              "         ...,\n",
              "         [0.8111, 0.2380, 0.5726],\n",
              "         [0.7833, 0.7770, 0.0841],\n",
              "         [0.8408, 0.7431, 0.2954]],\n",
              "\n",
              "        [[0.0728, 0.7655, 0.1266],\n",
              "         [0.5977, 0.0290, 0.9353],\n",
              "         [0.6465, 0.0260, 0.0757],\n",
              "         ...,\n",
              "         [0.0246, 0.0430, 0.1661],\n",
              "         [0.7625, 0.3941, 0.3084],\n",
              "         [0.0439, 0.2086, 0.2275]],\n",
              "\n",
              "        [[0.6129, 0.3758, 0.9849],\n",
              "         [0.5788, 0.4420, 0.2856],\n",
              "         [0.2496, 0.6714, 0.4182],\n",
              "         ...,\n",
              "         [0.9923, 0.1492, 0.0458],\n",
              "         [0.5667, 0.6314, 0.4807],\n",
              "         [0.6272, 0.8491, 0.3692]]])"
            ]
          },
          "metadata": {},
          "execution_count": 126
        }
      ]
    },
    {
      "cell_type": "code",
      "source": [
        "c.unsqueeze(0).shape"
      ],
      "metadata": {
        "colab": {
          "base_uri": "https://localhost:8080/"
        },
        "id": "tHo3dozj9TWp",
        "outputId": "3b7c0ddb-592e-4a0a-8f51-8ef9a8b70d3c"
      },
      "execution_count": 127,
      "outputs": [
        {
          "output_type": "execute_result",
          "data": {
            "text/plain": [
              "torch.Size([1, 226, 226, 3])"
            ]
          },
          "metadata": {},
          "execution_count": 127
        }
      ]
    },
    {
      "cell_type": "code",
      "source": [
        "c.unsqueeze(1).shape"
      ],
      "metadata": {
        "colab": {
          "base_uri": "https://localhost:8080/"
        },
        "id": "P5LYqr0u9bVu",
        "outputId": "a1b4c6f7-dc6b-4818-f9dd-23fcabd69701"
      },
      "execution_count": 129,
      "outputs": [
        {
          "output_type": "execute_result",
          "data": {
            "text/plain": [
              "torch.Size([226, 1, 226, 3])"
            ]
          },
          "metadata": {},
          "execution_count": 129
        }
      ]
    },
    {
      "cell_type": "code",
      "source": [
        "# SEQUEEZE\n",
        "d=torch.rand(1,20)\n",
        "print(d.shape)\n",
        "d.squeeze(0).shape"
      ],
      "metadata": {
        "colab": {
          "base_uri": "https://localhost:8080/"
        },
        "id": "rNW1E_N-9efV",
        "outputId": "e72dd18e-f1b9-4067-c12c-ec41b3a281c2"
      },
      "execution_count": 132,
      "outputs": [
        {
          "output_type": "stream",
          "name": "stdout",
          "text": [
            "torch.Size([1, 20])\n"
          ]
        },
        {
          "output_type": "execute_result",
          "data": {
            "text/plain": [
              "torch.Size([20])"
            ]
          },
          "metadata": {},
          "execution_count": 132
        }
      ]
    },
    {
      "cell_type": "markdown",
      "source": [
        "# NUMPY AND PYTORCH"
      ],
      "metadata": {
        "id": "PFES37Za-D8Q"
      }
    },
    {
      "cell_type": "code",
      "source": [
        "import numpy as np"
      ],
      "metadata": {
        "id": "--9CHTAN91M-"
      },
      "execution_count": 133,
      "outputs": []
    },
    {
      "cell_type": "code",
      "source": [
        "a=torch.tensor([1,2,3])\n",
        "a"
      ],
      "metadata": {
        "colab": {
          "base_uri": "https://localhost:8080/"
        },
        "id": "xzRGdyvu-JO9",
        "outputId": "0fb400ee-75d4-4106-87a8-f2de6ac29ce5"
      },
      "execution_count": 134,
      "outputs": [
        {
          "output_type": "execute_result",
          "data": {
            "text/plain": [
              "tensor([1, 2, 3])"
            ]
          },
          "metadata": {},
          "execution_count": 134
        }
      ]
    },
    {
      "cell_type": "code",
      "source": [
        "b=a.numpy()\n",
        "b"
      ],
      "metadata": {
        "colab": {
          "base_uri": "https://localhost:8080/"
        },
        "id": "ernJH7yd-eD-",
        "outputId": "360752f7-8b82-4f0f-d1ff-0d400d1925b1"
      },
      "execution_count": 135,
      "outputs": [
        {
          "output_type": "execute_result",
          "data": {
            "text/plain": [
              "array([1, 2, 3])"
            ]
          },
          "metadata": {},
          "execution_count": 135
        }
      ]
    },
    {
      "cell_type": "code",
      "source": [
        "type(b)"
      ],
      "metadata": {
        "colab": {
          "base_uri": "https://localhost:8080/"
        },
        "id": "PdqxjsOd-iSU",
        "outputId": "0070cf47-e39f-403d-9423-2dc3999ab791"
      },
      "execution_count": 136,
      "outputs": [
        {
          "output_type": "execute_result",
          "data": {
            "text/plain": [
              "numpy.ndarray"
            ]
          },
          "metadata": {},
          "execution_count": 136
        }
      ]
    },
    {
      "cell_type": "code",
      "source": [
        "c=np.array([1,2,3])\n",
        "c"
      ],
      "metadata": {
        "colab": {
          "base_uri": "https://localhost:8080/"
        },
        "id": "z3fzUf44-jxr",
        "outputId": "431c0e62-f61d-4fa4-b7a0-284678ac81a9"
      },
      "execution_count": 137,
      "outputs": [
        {
          "output_type": "execute_result",
          "data": {
            "text/plain": [
              "array([1, 2, 3])"
            ]
          },
          "metadata": {},
          "execution_count": 137
        }
      ]
    },
    {
      "cell_type": "code",
      "source": [
        "torch.from_numpy(c)"
      ],
      "metadata": {
        "colab": {
          "base_uri": "https://localhost:8080/"
        },
        "id": "owOvtXjp-oLa",
        "outputId": "8d534b2d-dc86-4e18-8d1b-638120e750a8"
      },
      "execution_count": 138,
      "outputs": [
        {
          "output_type": "execute_result",
          "data": {
            "text/plain": [
              "tensor([1, 2, 3])"
            ]
          },
          "metadata": {},
          "execution_count": 138
        }
      ]
    },
    {
      "cell_type": "code",
      "source": [],
      "metadata": {
        "id": "6FB5fMqd-rqA"
      },
      "execution_count": null,
      "outputs": []
    }
  ]
}