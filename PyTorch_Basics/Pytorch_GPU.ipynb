{
  "nbformat": 4,
  "nbformat_minor": 0,
  "metadata": {
    "colab": {
      "provenance": [],
      "gpuType": "T4",
      "authorship_tag": "ABX9TyM/y/FEsd5zbmgbeOuGV+Rl",
      "include_colab_link": true
    },
    "kernelspec": {
      "name": "python3",
      "display_name": "Python 3"
    },
    "language_info": {
      "name": "python"
    },
    "accelerator": "GPU"
  },
  "cells": [
    {
      "cell_type": "markdown",
      "metadata": {
        "id": "view-in-github",
        "colab_type": "text"
      },
      "source": [
        "<a href=\"https://colab.research.google.com/github/ashutosh15072000/Deep-Learning-Basics/blob/main/PyTorch_Basics/Pytorch_GPU.ipynb\" target=\"_parent\"><img src=\"https://colab.research.google.com/assets/colab-badge.svg\" alt=\"Open In Colab\"/></a>"
      ]
    },
    {
      "cell_type": "markdown",
      "source": [
        "What is Tensor in Pytorch?\n",
        "- Pytorch tensors are pointer into allocated memory."
      ],
      "metadata": {
        "id": "q9hKSLvHZpuO"
      }
    },
    {
      "cell_type": "code",
      "source": [
        "import torch"
      ],
      "metadata": {
        "id": "LhV9h45_aHGy"
      },
      "execution_count": 1,
      "outputs": []
    },
    {
      "cell_type": "code",
      "execution_count": 3,
      "metadata": {
        "colab": {
          "base_uri": "https://localhost:8080/"
        },
        "id": "92YShst9YWMz",
        "outputId": "d236fc52-2000-4a1c-8f82-eb55ce8d805f"
      },
      "outputs": [
        {
          "output_type": "execute_result",
          "data": {
            "text/plain": [
              "tensor([[ 0.,  1.,  2.,  3.],\n",
              "        [ 4.,  5.,  6.,  7.],\n",
              "        [ 8.,  9., 10., 11.],\n",
              "        [12., 13., 14., 15.]])"
            ]
          },
          "metadata": {},
          "execution_count": 3
        }
      ],
      "source": [
        "x=torch.tensor([\n",
        "    [0.,1,2,3],\n",
        "    [4,5,6,7],\n",
        "    [8,9,10,11],\n",
        "    [12,13,14,15],])\n",
        "x"
      ]
    },
    {
      "cell_type": "code",
      "source": [
        "## TO go to the next row(dim 0) , skip 4 element in storage\n",
        "assert x.stride(0)==4"
      ],
      "metadata": {
        "id": "BAikf4CtaY2R"
      },
      "execution_count": 7,
      "outputs": []
    },
    {
      "cell_type": "code",
      "source": [
        "## TO go to the next col(dim 1) , skip 1 element in storage\n",
        "assert x.stride(1)==1"
      ],
      "metadata": {
        "id": "bbM4EqytaeGf"
      },
      "execution_count": 8,
      "outputs": []
    },
    {
      "cell_type": "code",
      "source": [
        "## To find the elments\n",
        "r,c=1,2\n",
        "index=r*x.stride(0)+c*x.stride(1)\n",
        "index"
      ],
      "metadata": {
        "colab": {
          "base_uri": "https://localhost:8080/"
        },
        "id": "eSroxv_SbAkk",
        "outputId": "f8a477d6-9504-448a-fbf8-afc7b457eb01"
      },
      "execution_count": 9,
      "outputs": [
        {
          "output_type": "execute_result",
          "data": {
            "text/plain": [
              "6"
            ]
          },
          "metadata": {},
          "execution_count": 9
        }
      ]
    },
    {
      "cell_type": "code",
      "source": [
        "x=torch.tensor([[1,2,3],[4,5,6]])\n"
      ],
      "metadata": {
        "id": "5MFMbv_KbRde"
      },
      "execution_count": 10,
      "outputs": []
    },
    {
      "cell_type": "code",
      "source": [
        "def same_storage(x:torch.Tensor,y: torch.Tensor):\n",
        "  return x.untyped_storage().data_ptr()==y.untyped_storage().data_ptr()\n"
      ],
      "metadata": {
        "id": "7PcYBCezd2SC"
      },
      "execution_count": 12,
      "outputs": []
    },
    {
      "cell_type": "code",
      "source": [
        "x.untyped_storage().data_ptr()"
      ],
      "metadata": {
        "colab": {
          "base_uri": "https://localhost:8080/"
        },
        "id": "_A8Zxo4DeGsi",
        "outputId": "782f31aa-b6ad-4b5c-bfd1-621853991f0d"
      },
      "execution_count": 13,
      "outputs": [
        {
          "output_type": "execute_result",
          "data": {
            "text/plain": [
              "338481472"
            ]
          },
          "metadata": {},
          "execution_count": 13
        }
      ]
    },
    {
      "cell_type": "code",
      "source": [
        "## GET ROW 0\n",
        "y=x[0]\n",
        "print(f\"X tensor memory allocation : {x.untyped_storage().data_ptr()}\")\n",
        "print(f\"Y tensor memory allocation : {y.untyped_storage().data_ptr()}\")\n",
        "print(f\"Both X and Y Tensor have same value : {torch.equal(y,x[0])}\")\n",
        "print(f\"Both X and Y Tensor have same memory allocation : {same_storage(x,y)}\")"
      ],
      "metadata": {
        "colab": {
          "base_uri": "https://localhost:8080/"
        },
        "id": "nZEXjbsMdUom",
        "outputId": "265c5db9-302a-4b59-eb00-3d6d6dad08ff"
      },
      "execution_count": 21,
      "outputs": [
        {
          "output_type": "stream",
          "name": "stdout",
          "text": [
            "X tensor memory allocation : 338481472\n",
            "Y tensor memory allocation : 338481472\n",
            "Both X and Y Tensor have same value : True\n",
            "Both X and Y Tensor have same memory allocation : True\n"
          ]
        }
      ]
    },
    {
      "cell_type": "code",
      "source": [
        "## Get Column 1\n",
        "y=x[:,1]\n",
        "print(torch.equal(y,torch.tensor([2,5])))\n",
        "print(same_storage(x,y))"
      ],
      "metadata": {
        "colab": {
          "base_uri": "https://localhost:8080/"
        },
        "id": "gaExqU4AePs6",
        "outputId": "1afb3572-201e-4211-c197-0291e3e89805"
      },
      "execution_count": 25,
      "outputs": [
        {
          "output_type": "stream",
          "name": "stdout",
          "text": [
            "True\n",
            "True\n"
          ]
        }
      ]
    },
    {
      "cell_type": "code",
      "source": [
        "y=x.view(3,2)\n",
        "print(y)\n",
        "torch.equal(y,torch.tensor([[1,2],[3,4],[5,6]]))\n",
        "print(same_storage(x,y))\n"
      ],
      "metadata": {
        "colab": {
          "base_uri": "https://localhost:8080/"
        },
        "id": "yrAUiovfdfNB",
        "outputId": "cf9e695b-dbbe-48b1-dad8-b6628ce0b205"
      },
      "execution_count": 29,
      "outputs": [
        {
          "output_type": "stream",
          "name": "stdout",
          "text": [
            "tensor([[1, 2],\n",
            "        [3, 4],\n",
            "        [5, 6]])\n",
            "True\n"
          ]
        }
      ]
    },
    {
      "cell_type": "code",
      "source": [
        "x"
      ],
      "metadata": {
        "colab": {
          "base_uri": "https://localhost:8080/"
        },
        "id": "hABrqkAtgYd5",
        "outputId": "e707b726-ed78-437a-d4de-7ea2ce3cf45b"
      },
      "execution_count": 32,
      "outputs": [
        {
          "output_type": "execute_result",
          "data": {
            "text/plain": [
              "tensor([[1, 2, 3],\n",
              "        [4, 5, 6]])"
            ]
          },
          "metadata": {},
          "execution_count": 32
        }
      ]
    },
    {
      "cell_type": "code",
      "source": [
        "## Transpose the matrix\n",
        "y=x.transpose(1,0)\n",
        "print(y)\n",
        "print(torch.equal(y,torch.tensor([[1,4],[2,5],[3,6]])))\n",
        "print(same_storage(x,y))"
      ],
      "metadata": {
        "colab": {
          "base_uri": "https://localhost:8080/"
        },
        "id": "lTaBNvvCfrq1",
        "outputId": "7737ec54-5aad-4a21-98b8-da1ba4cd097a"
      },
      "execution_count": 36,
      "outputs": [
        {
          "output_type": "stream",
          "name": "stdout",
          "text": [
            "tensor([[1, 4],\n",
            "        [2, 5],\n",
            "        [3, 6]])\n",
            "True\n",
            "True\n"
          ]
        }
      ]
    },
    {
      "cell_type": "code",
      "source": [
        "## Check that Mutating x also mutates y\n",
        "x[0][0]=100\n",
        "print(x)\n",
        "print(y)"
      ],
      "metadata": {
        "colab": {
          "base_uri": "https://localhost:8080/"
        },
        "id": "7TFSPHNSgHqT",
        "outputId": "0c516eb0-f0e5-473b-85cd-8094d30d1363"
      },
      "execution_count": 38,
      "outputs": [
        {
          "output_type": "stream",
          "name": "stdout",
          "text": [
            "tensor([[100,   2,   3],\n",
            "        [  4,   5,   6]])\n",
            "tensor([[100,   4],\n",
            "        [  2,   5],\n",
            "        [  3,   6]])\n"
          ]
        }
      ]
    },
    {
      "cell_type": "code",
      "source": [
        "x=torch.tensor([[1,2,3],[4,5,6]])\n",
        "y=x.t()\n",
        "print(x)\n",
        "print(y)"
      ],
      "metadata": {
        "colab": {
          "base_uri": "https://localhost:8080/"
        },
        "id": "ET-E3BzagWQe",
        "outputId": "5bb73a63-86e0-414a-fc57-41ecb527c2fb"
      },
      "execution_count": 39,
      "outputs": [
        {
          "output_type": "stream",
          "name": "stdout",
          "text": [
            "tensor([[1, 2, 3],\n",
            "        [4, 5, 6]])\n",
            "tensor([[1, 4],\n",
            "        [2, 5],\n",
            "        [3, 6]])\n"
          ]
        }
      ]
    },
    {
      "cell_type": "code",
      "source": [
        " y.view(2,3)"
      ],
      "metadata": {
        "colab": {
          "base_uri": "https://localhost:8080/",
          "height": 141
        },
        "id": "iGuZtkWAhmGw",
        "outputId": "ccec5826-8f43-43d5-b3a5-11953149d4e3"
      },
      "execution_count": 45,
      "outputs": [
        {
          "output_type": "error",
          "ename": "RuntimeError",
          "evalue": "view size is not compatible with input tensor's size and stride (at least one dimension spans across two contiguous subspaces). Use .reshape(...) instead.",
          "traceback": [
            "\u001b[0;31m---------------------------------------------------------------------------\u001b[0m",
            "\u001b[0;31mRuntimeError\u001b[0m                              Traceback (most recent call last)",
            "\u001b[0;32m<ipython-input-45-0e018fb48dc9>\u001b[0m in \u001b[0;36m<cell line: 0>\u001b[0;34m()\u001b[0m\n\u001b[0;32m----> 1\u001b[0;31m \u001b[0my\u001b[0m\u001b[0;34m.\u001b[0m\u001b[0mview\u001b[0m\u001b[0;34m(\u001b[0m\u001b[0;36m2\u001b[0m\u001b[0;34m,\u001b[0m\u001b[0;36m3\u001b[0m\u001b[0;34m)\u001b[0m\u001b[0;34m\u001b[0m\u001b[0;34m\u001b[0m\u001b[0m\n\u001b[0m",
            "\u001b[0;31mRuntimeError\u001b[0m: view size is not compatible with input tensor's size and stride (at least one dimension spans across two contiguous subspaces). Use .reshape(...) instead."
          ]
        }
      ]
    },
    {
      "cell_type": "code",
      "source": [
        "same_storage(x,y)"
      ],
      "metadata": {
        "colab": {
          "base_uri": "https://localhost:8080/"
        },
        "id": "4X8RdZ-shyEj",
        "outputId": "a5b3bdf2-99e4-4f4f-c025-002b4ff154fe"
      },
      "execution_count": 43,
      "outputs": [
        {
          "output_type": "execute_result",
          "data": {
            "text/plain": [
              "True"
            ]
          },
          "metadata": {},
          "execution_count": 43
        }
      ]
    },
    {
      "cell_type": "markdown",
      "source": [
        "    One can enforce a tensor to be contiguous first:"
      ],
      "metadata": {
        "id": "67oZGELtjQJC"
      }
    },
    {
      "cell_type": "code",
      "source": [
        "y=x.transpose(1,0).contiguous().view(2,3)\n",
        "y"
      ],
      "metadata": {
        "colab": {
          "base_uri": "https://localhost:8080/"
        },
        "id": "4yKc3YuMjPzC",
        "outputId": "592b3300-a109-44b6-9dde-3989b767cbbf"
      },
      "execution_count": 47,
      "outputs": [
        {
          "output_type": "execute_result",
          "data": {
            "text/plain": [
              "tensor([[1, 4, 2],\n",
              "        [5, 3, 6]])"
            ]
          },
          "metadata": {},
          "execution_count": 47
        }
      ]
    },
    {
      "cell_type": "code",
      "source": [
        "same_storage(x,y)"
      ],
      "metadata": {
        "colab": {
          "base_uri": "https://localhost:8080/"
        },
        "id": "82Gu7ounh6fi",
        "outputId": "5f16ad52-54c8-492e-96de-4fec2801ed8d"
      },
      "execution_count": 48,
      "outputs": [
        {
          "output_type": "execute_result",
          "data": {
            "text/plain": [
              "False"
            ]
          },
          "metadata": {},
          "execution_count": 48
        }
      ]
    },
    {
      "cell_type": "code",
      "source": [
        "print(x.untyped_storage().data_ptr())\n",
        "print(y.untyped_storage().data_ptr())\n",
        "##     Views are free, copying take both (additional) memory and compute.\n"
      ],
      "metadata": {
        "colab": {
          "base_uri": "https://localhost:8080/"
        },
        "id": "U_A88EOxjexE",
        "outputId": "9113543f-6026-40f8-fbac-7f53f7951648"
      },
      "execution_count": 49,
      "outputs": [
        {
          "output_type": "stream",
          "name": "stdout",
          "text": [
            "364240896\n",
            "364281472\n"
          ]
        }
      ]
    },
    {
      "cell_type": "markdown",
      "source": [
        "##  Matrix Multiplication"
      ],
      "metadata": {
        "id": "CUFQRXiAkdVS"
      }
    },
    {
      "cell_type": "code",
      "source": [
        "x=torch.ones(16,32)\n",
        "w=torch.ones(32,2)\n",
        "print(x,w)\n",
        "y=x@w\n",
        "print(y)\n"
      ],
      "metadata": {
        "colab": {
          "base_uri": "https://localhost:8080/"
        },
        "id": "DhspqgMOjulG",
        "outputId": "dc4b3e34-54ea-4696-a464-45cb4c511746"
      },
      "execution_count": 50,
      "outputs": [
        {
          "output_type": "stream",
          "name": "stdout",
          "text": [
            "tensor([[1., 1., 1., 1., 1., 1., 1., 1., 1., 1., 1., 1., 1., 1., 1., 1., 1., 1.,\n",
            "         1., 1., 1., 1., 1., 1., 1., 1., 1., 1., 1., 1., 1., 1.],\n",
            "        [1., 1., 1., 1., 1., 1., 1., 1., 1., 1., 1., 1., 1., 1., 1., 1., 1., 1.,\n",
            "         1., 1., 1., 1., 1., 1., 1., 1., 1., 1., 1., 1., 1., 1.],\n",
            "        [1., 1., 1., 1., 1., 1., 1., 1., 1., 1., 1., 1., 1., 1., 1., 1., 1., 1.,\n",
            "         1., 1., 1., 1., 1., 1., 1., 1., 1., 1., 1., 1., 1., 1.],\n",
            "        [1., 1., 1., 1., 1., 1., 1., 1., 1., 1., 1., 1., 1., 1., 1., 1., 1., 1.,\n",
            "         1., 1., 1., 1., 1., 1., 1., 1., 1., 1., 1., 1., 1., 1.],\n",
            "        [1., 1., 1., 1., 1., 1., 1., 1., 1., 1., 1., 1., 1., 1., 1., 1., 1., 1.,\n",
            "         1., 1., 1., 1., 1., 1., 1., 1., 1., 1., 1., 1., 1., 1.],\n",
            "        [1., 1., 1., 1., 1., 1., 1., 1., 1., 1., 1., 1., 1., 1., 1., 1., 1., 1.,\n",
            "         1., 1., 1., 1., 1., 1., 1., 1., 1., 1., 1., 1., 1., 1.],\n",
            "        [1., 1., 1., 1., 1., 1., 1., 1., 1., 1., 1., 1., 1., 1., 1., 1., 1., 1.,\n",
            "         1., 1., 1., 1., 1., 1., 1., 1., 1., 1., 1., 1., 1., 1.],\n",
            "        [1., 1., 1., 1., 1., 1., 1., 1., 1., 1., 1., 1., 1., 1., 1., 1., 1., 1.,\n",
            "         1., 1., 1., 1., 1., 1., 1., 1., 1., 1., 1., 1., 1., 1.],\n",
            "        [1., 1., 1., 1., 1., 1., 1., 1., 1., 1., 1., 1., 1., 1., 1., 1., 1., 1.,\n",
            "         1., 1., 1., 1., 1., 1., 1., 1., 1., 1., 1., 1., 1., 1.],\n",
            "        [1., 1., 1., 1., 1., 1., 1., 1., 1., 1., 1., 1., 1., 1., 1., 1., 1., 1.,\n",
            "         1., 1., 1., 1., 1., 1., 1., 1., 1., 1., 1., 1., 1., 1.],\n",
            "        [1., 1., 1., 1., 1., 1., 1., 1., 1., 1., 1., 1., 1., 1., 1., 1., 1., 1.,\n",
            "         1., 1., 1., 1., 1., 1., 1., 1., 1., 1., 1., 1., 1., 1.],\n",
            "        [1., 1., 1., 1., 1., 1., 1., 1., 1., 1., 1., 1., 1., 1., 1., 1., 1., 1.,\n",
            "         1., 1., 1., 1., 1., 1., 1., 1., 1., 1., 1., 1., 1., 1.],\n",
            "        [1., 1., 1., 1., 1., 1., 1., 1., 1., 1., 1., 1., 1., 1., 1., 1., 1., 1.,\n",
            "         1., 1., 1., 1., 1., 1., 1., 1., 1., 1., 1., 1., 1., 1.],\n",
            "        [1., 1., 1., 1., 1., 1., 1., 1., 1., 1., 1., 1., 1., 1., 1., 1., 1., 1.,\n",
            "         1., 1., 1., 1., 1., 1., 1., 1., 1., 1., 1., 1., 1., 1.],\n",
            "        [1., 1., 1., 1., 1., 1., 1., 1., 1., 1., 1., 1., 1., 1., 1., 1., 1., 1.,\n",
            "         1., 1., 1., 1., 1., 1., 1., 1., 1., 1., 1., 1., 1., 1.],\n",
            "        [1., 1., 1., 1., 1., 1., 1., 1., 1., 1., 1., 1., 1., 1., 1., 1., 1., 1.,\n",
            "         1., 1., 1., 1., 1., 1., 1., 1., 1., 1., 1., 1., 1., 1.]]) tensor([[1., 1.],\n",
            "        [1., 1.],\n",
            "        [1., 1.],\n",
            "        [1., 1.],\n",
            "        [1., 1.],\n",
            "        [1., 1.],\n",
            "        [1., 1.],\n",
            "        [1., 1.],\n",
            "        [1., 1.],\n",
            "        [1., 1.],\n",
            "        [1., 1.],\n",
            "        [1., 1.],\n",
            "        [1., 1.],\n",
            "        [1., 1.],\n",
            "        [1., 1.],\n",
            "        [1., 1.],\n",
            "        [1., 1.],\n",
            "        [1., 1.],\n",
            "        [1., 1.],\n",
            "        [1., 1.],\n",
            "        [1., 1.],\n",
            "        [1., 1.],\n",
            "        [1., 1.],\n",
            "        [1., 1.],\n",
            "        [1., 1.],\n",
            "        [1., 1.],\n",
            "        [1., 1.],\n",
            "        [1., 1.],\n",
            "        [1., 1.],\n",
            "        [1., 1.],\n",
            "        [1., 1.],\n",
            "        [1., 1.]])\n",
            "tensor([[32., 32.],\n",
            "        [32., 32.],\n",
            "        [32., 32.],\n",
            "        [32., 32.],\n",
            "        [32., 32.],\n",
            "        [32., 32.],\n",
            "        [32., 32.],\n",
            "        [32., 32.],\n",
            "        [32., 32.],\n",
            "        [32., 32.],\n",
            "        [32., 32.],\n",
            "        [32., 32.],\n",
            "        [32., 32.],\n",
            "        [32., 32.],\n",
            "        [32., 32.],\n",
            "        [32., 32.]])\n"
          ]
        }
      ]
    },
    {
      "cell_type": "markdown",
      "source": [
        "In general , we perform operations for every example in a batch and token in a sequence."
      ],
      "metadata": {
        "id": "rQfIHZo7k-MK"
      }
    },
    {
      "cell_type": "code",
      "source": [
        "x=torch.ones([4,8,16,32])\n",
        "w=torch.ones(32,2)\n",
        "y=x@w\n",
        "y"
      ],
      "metadata": {
        "colab": {
          "base_uri": "https://localhost:8080/"
        },
        "id": "dyV7ylXjkwOO",
        "outputId": "8d816086-f393-40c5-831d-d32e76239f93"
      },
      "execution_count": 51,
      "outputs": [
        {
          "output_type": "execute_result",
          "data": {
            "text/plain": [
              "tensor([[[[32., 32.],\n",
              "          [32., 32.],\n",
              "          [32., 32.],\n",
              "          ...,\n",
              "          [32., 32.],\n",
              "          [32., 32.],\n",
              "          [32., 32.]],\n",
              "\n",
              "         [[32., 32.],\n",
              "          [32., 32.],\n",
              "          [32., 32.],\n",
              "          ...,\n",
              "          [32., 32.],\n",
              "          [32., 32.],\n",
              "          [32., 32.]],\n",
              "\n",
              "         [[32., 32.],\n",
              "          [32., 32.],\n",
              "          [32., 32.],\n",
              "          ...,\n",
              "          [32., 32.],\n",
              "          [32., 32.],\n",
              "          [32., 32.]],\n",
              "\n",
              "         ...,\n",
              "\n",
              "         [[32., 32.],\n",
              "          [32., 32.],\n",
              "          [32., 32.],\n",
              "          ...,\n",
              "          [32., 32.],\n",
              "          [32., 32.],\n",
              "          [32., 32.]],\n",
              "\n",
              "         [[32., 32.],\n",
              "          [32., 32.],\n",
              "          [32., 32.],\n",
              "          ...,\n",
              "          [32., 32.],\n",
              "          [32., 32.],\n",
              "          [32., 32.]],\n",
              "\n",
              "         [[32., 32.],\n",
              "          [32., 32.],\n",
              "          [32., 32.],\n",
              "          ...,\n",
              "          [32., 32.],\n",
              "          [32., 32.],\n",
              "          [32., 32.]]],\n",
              "\n",
              "\n",
              "        [[[32., 32.],\n",
              "          [32., 32.],\n",
              "          [32., 32.],\n",
              "          ...,\n",
              "          [32., 32.],\n",
              "          [32., 32.],\n",
              "          [32., 32.]],\n",
              "\n",
              "         [[32., 32.],\n",
              "          [32., 32.],\n",
              "          [32., 32.],\n",
              "          ...,\n",
              "          [32., 32.],\n",
              "          [32., 32.],\n",
              "          [32., 32.]],\n",
              "\n",
              "         [[32., 32.],\n",
              "          [32., 32.],\n",
              "          [32., 32.],\n",
              "          ...,\n",
              "          [32., 32.],\n",
              "          [32., 32.],\n",
              "          [32., 32.]],\n",
              "\n",
              "         ...,\n",
              "\n",
              "         [[32., 32.],\n",
              "          [32., 32.],\n",
              "          [32., 32.],\n",
              "          ...,\n",
              "          [32., 32.],\n",
              "          [32., 32.],\n",
              "          [32., 32.]],\n",
              "\n",
              "         [[32., 32.],\n",
              "          [32., 32.],\n",
              "          [32., 32.],\n",
              "          ...,\n",
              "          [32., 32.],\n",
              "          [32., 32.],\n",
              "          [32., 32.]],\n",
              "\n",
              "         [[32., 32.],\n",
              "          [32., 32.],\n",
              "          [32., 32.],\n",
              "          ...,\n",
              "          [32., 32.],\n",
              "          [32., 32.],\n",
              "          [32., 32.]]],\n",
              "\n",
              "\n",
              "        [[[32., 32.],\n",
              "          [32., 32.],\n",
              "          [32., 32.],\n",
              "          ...,\n",
              "          [32., 32.],\n",
              "          [32., 32.],\n",
              "          [32., 32.]],\n",
              "\n",
              "         [[32., 32.],\n",
              "          [32., 32.],\n",
              "          [32., 32.],\n",
              "          ...,\n",
              "          [32., 32.],\n",
              "          [32., 32.],\n",
              "          [32., 32.]],\n",
              "\n",
              "         [[32., 32.],\n",
              "          [32., 32.],\n",
              "          [32., 32.],\n",
              "          ...,\n",
              "          [32., 32.],\n",
              "          [32., 32.],\n",
              "          [32., 32.]],\n",
              "\n",
              "         ...,\n",
              "\n",
              "         [[32., 32.],\n",
              "          [32., 32.],\n",
              "          [32., 32.],\n",
              "          ...,\n",
              "          [32., 32.],\n",
              "          [32., 32.],\n",
              "          [32., 32.]],\n",
              "\n",
              "         [[32., 32.],\n",
              "          [32., 32.],\n",
              "          [32., 32.],\n",
              "          ...,\n",
              "          [32., 32.],\n",
              "          [32., 32.],\n",
              "          [32., 32.]],\n",
              "\n",
              "         [[32., 32.],\n",
              "          [32., 32.],\n",
              "          [32., 32.],\n",
              "          ...,\n",
              "          [32., 32.],\n",
              "          [32., 32.],\n",
              "          [32., 32.]]],\n",
              "\n",
              "\n",
              "        [[[32., 32.],\n",
              "          [32., 32.],\n",
              "          [32., 32.],\n",
              "          ...,\n",
              "          [32., 32.],\n",
              "          [32., 32.],\n",
              "          [32., 32.]],\n",
              "\n",
              "         [[32., 32.],\n",
              "          [32., 32.],\n",
              "          [32., 32.],\n",
              "          ...,\n",
              "          [32., 32.],\n",
              "          [32., 32.],\n",
              "          [32., 32.]],\n",
              "\n",
              "         [[32., 32.],\n",
              "          [32., 32.],\n",
              "          [32., 32.],\n",
              "          ...,\n",
              "          [32., 32.],\n",
              "          [32., 32.],\n",
              "          [32., 32.]],\n",
              "\n",
              "         ...,\n",
              "\n",
              "         [[32., 32.],\n",
              "          [32., 32.],\n",
              "          [32., 32.],\n",
              "          ...,\n",
              "          [32., 32.],\n",
              "          [32., 32.],\n",
              "          [32., 32.]],\n",
              "\n",
              "         [[32., 32.],\n",
              "          [32., 32.],\n",
              "          [32., 32.],\n",
              "          ...,\n",
              "          [32., 32.],\n",
              "          [32., 32.],\n",
              "          [32., 32.]],\n",
              "\n",
              "         [[32., 32.],\n",
              "          [32., 32.],\n",
              "          [32., 32.],\n",
              "          ...,\n",
              "          [32., 32.],\n",
              "          [32., 32.],\n",
              "          [32., 32.]]]])"
            ]
          },
          "metadata": {},
          "execution_count": 51
        }
      ]
    },
    {
      "cell_type": "code",
      "source": [
        "import timeit"
      ],
      "metadata": {
        "id": "0bafvPsg5aWr"
      },
      "execution_count": 66,
      "outputs": []
    },
    {
      "cell_type": "code",
      "source": [
        "def time_matmul(a: torch.Tensor, b: torch.Tensor) -> float:\n",
        "    \"\"\"Return the number of seconds required to perform `a @ b`.\"\"\"\n",
        "    # Wait until previous CUDA threads are done\n",
        "    if torch.cuda.is_available():\n",
        "        torch.cuda.synchronize()\n",
        "    def run():\n",
        "        # Perform the operation\n",
        "        a @ b\n",
        "        # Wait until CUDA threads are done\n",
        "        if torch.cuda.is_available():\n",
        "            torch.cuda.synchronize()\n",
        "    # Time the operation `num_trials` times\n",
        "    num_trials = 5\n",
        "    total_time = timeit.timeit(run, number=num_trials)\n",
        "    return total_time / num_trials"
      ],
      "metadata": {
        "id": "hB6eDS6plSC6"
      },
      "execution_count": 67,
      "outputs": []
    },
    {
      "cell_type": "markdown",
      "source": [
        "## Linear Model"
      ],
      "metadata": {
        "id": "dOXDFdMR358R"
      }
    },
    {
      "cell_type": "markdown",
      "source": [
        "As motivation, suppose you have a linear model.\n",
        "    \n",
        "We have n points\n",
        "    \n",
        "Each point is d-dimsional\n",
        "    \n",
        "The linear model maps each d-dimensional vector to a k outputs"
      ],
      "metadata": {
        "id": "D55LJu-g3-Ki"
      }
    },
    {
      "cell_type": "code",
      "source": [
        "if torch.cuda.is_available():\n",
        "        B = 16384  # Number of points\n",
        "        D = 32768  # Dimension\n",
        "        K = 8192   # Number of outputs\n",
        "else:\n",
        "        B = 1024\n",
        "        D = 256\n",
        "        K = 64"
      ],
      "metadata": {
        "id": "-dnQvPmq304g"
      },
      "execution_count": 68,
      "outputs": []
    },
    {
      "cell_type": "code",
      "source": [
        "device=torch.device(\"cuda\" if torch.cuda.is_available() else \"cpu\")\n",
        "device"
      ],
      "metadata": {
        "colab": {
          "base_uri": "https://localhost:8080/"
        },
        "id": "9KGC0pvU4BiS",
        "outputId": "442ba49d-d4fa-410e-99e1-36241b57ad79"
      },
      "execution_count": 69,
      "outputs": [
        {
          "output_type": "execute_result",
          "data": {
            "text/plain": [
              "device(type='cuda')"
            ]
          },
          "metadata": {},
          "execution_count": 69
        }
      ]
    },
    {
      "cell_type": "code",
      "source": [
        "x=torch.ones(B,D,device=device)\n",
        "w=torch.ones(D,K,device=device)\n",
        "print(x.shape,w.shape)"
      ],
      "metadata": {
        "colab": {
          "base_uri": "https://localhost:8080/"
        },
        "id": "zut4xbDR4LkI",
        "outputId": "64de5d94-acee-465b-9799-44913dfa30b5"
      },
      "execution_count": 70,
      "outputs": [
        {
          "output_type": "stream",
          "name": "stdout",
          "text": [
            "torch.Size([16384, 32768]) torch.Size([32768, 8192])\n"
          ]
        }
      ]
    },
    {
      "cell_type": "code",
      "source": [
        "## Matrix Muplication\n",
        "y=x@w\n",
        "print(y.shape)"
      ],
      "metadata": {
        "colab": {
          "base_uri": "https://localhost:8080/"
        },
        "id": "COdf7Vld4Xeq",
        "outputId": "32c2fe46-dce5-4194-a9cd-bdd7a4639d29"
      },
      "execution_count": 71,
      "outputs": [
        {
          "output_type": "stream",
          "name": "stdout",
          "text": [
            "torch.Size([16384, 8192])\n"
          ]
        }
      ]
    },
    {
      "cell_type": "markdown",
      "source": [
        "We have one multiplication (x[i][j] * w[j][k]) and one addition per (i, j, k) triple."
      ],
      "metadata": {
        "id": "NxjEoMCs4oSx"
      }
    },
    {
      "cell_type": "code",
      "source": [
        "actual_num_flops =2*B*D*K\n",
        "print(f\"Total number of Flops for particular linear model : {actual_num_flops}\")"
      ],
      "metadata": {
        "colab": {
          "base_uri": "https://localhost:8080/"
        },
        "id": "M0BZoT324mfh",
        "outputId": "b5bf6f94-fe59-4f49-f356-c0ee76a66991"
      },
      "execution_count": 80,
      "outputs": [
        {
          "output_type": "stream",
          "name": "stdout",
          "text": [
            "Total number of Flops for particular linear model : 8796093022208\n"
          ]
        }
      ]
    },
    {
      "cell_type": "markdown",
      "source": [
        "    `FLOPs of other operations`\n",
        "    \n",
        "Elementwise operation on a m x n matrix requires O(m n) FLOPs.\n",
        "    \n",
        "Addition of two m x n matrices requires m n FLOPs.\n",
        "    In general, no other operation that you'd encounter in deep learning is as expensive as matrix multiplication for large enough matrices.\n",
        "    Interpretation:\n",
        "    \n",
        "B is the number of data points\n",
        "    \n",
        "(D K) is the number of parameters\n",
        "    \n",
        "FLOPs for forward pass is 2 (# tokens) (# parameters)\n",
        "    It turns out this generalizes to Transformers (to a first-order approximation)."
      ],
      "metadata": {
        "id": "_OGw5Mi55FhC"
      }
    },
    {
      "cell_type": "code",
      "source": [
        "actual_time=time_matmul(x,w)\n",
        "print(f\"Actual Time to Compute matrix Multipication on Linear Model on GPU(T4) {actual_time}\")"
      ],
      "metadata": {
        "colab": {
          "base_uri": "https://localhost:8080/"
        },
        "id": "VZOFeEHn4z58",
        "outputId": "4af54078-8fbf-4b56-87be-6eb26d8d3ac5"
      },
      "execution_count": 74,
      "outputs": [
        {
          "output_type": "stream",
          "name": "stdout",
          "text": [
            "Actual Time to Compute matrix Multipication on Linear Model on GPU(T4) 1.7326699799999914\n"
          ]
        }
      ]
    },
    {
      "cell_type": "code",
      "source": [
        "actual_flops_per_sec = actual_num_flops / actual_time\n",
        "actual_flops_per_sec"
      ],
      "metadata": {
        "colab": {
          "base_uri": "https://localhost:8080/"
        },
        "id": "n3WUzUKn70Sy",
        "outputId": "74db03ad-e37d-4ffb-d287-048ae0265691"
      },
      "execution_count": 84,
      "outputs": [
        {
          "output_type": "execute_result",
          "data": {
            "text/plain": [
              "5076611890169.67"
            ]
          },
          "metadata": {},
          "execution_count": 84
        }
      ]
    },
    {
      "cell_type": "code",
      "source": [
        "promised_flop_per_sec=8e12"
      ],
      "metadata": {
        "id": "qh1kpmLK6Q8q"
      },
      "execution_count": 82,
      "outputs": []
    },
    {
      "cell_type": "markdown",
      "source": [
        " ## Model FLOPs utilization (MFU)"
      ],
      "metadata": {
        "id": "tkobZCWT6D2C"
      }
    },
    {
      "cell_type": "markdown",
      "source": [
        " Definition: (actual FLOP/s) / (promised FLOP/s) [ignore communication/overhead]"
      ],
      "metadata": {
        "id": "o2tQa5C_6IX0"
      }
    },
    {
      "cell_type": "code",
      "source": [
        "mfu=actual_flops_per_sec/promised_flop_per_sec\n",
        "print(f\"Model FLOPs utilization (MFU) : {mfu}\")"
      ],
      "metadata": {
        "colab": {
          "base_uri": "https://localhost:8080/"
        },
        "id": "zoDD-E0W5UDE",
        "outputId": "33d710b4-3435-49f5-a323-36859c7abfd3"
      },
      "execution_count": 86,
      "outputs": [
        {
          "output_type": "stream",
          "name": "stdout",
          "text": [
            "Model FLOPs utilization (MFU) : 0.6345764862712088\n"
          ]
        }
      ]
    },
    {
      "cell_type": "markdown",
      "source": [
        "Usually, MFU of >= 0.5 is quite good (and will be higher if matmuls dominate)"
      ],
      "metadata": {
        "id": "2MstclJT8NeJ"
      }
    },
    {
      "cell_type": "markdown",
      "source": [
        "### Let's do it with bfloat16:"
      ],
      "metadata": {
        "id": "u08fwo1S8Sxa"
      }
    },
    {
      "cell_type": "code",
      "source": [
        "x=x.to(torch.bfloat16)\n",
        "w=w.to(torch.bfloat16)\n",
        "print(x.dtype,w.dtype)\n",
        "bfloat16_actual_time=time_matmul(x,w)\n",
        "print(f\"Actual Time to Compute matrix Multipication on Linear Model on GPU(T4) {bfloat16_actual_time}\")\n",
        "\n",
        "\n",
        "bf16_actual_flop_per_sec = actual_num_flops / bfloat16_actual_time\n",
        "print(f\"BF16 actual flop per sec {bf16_actual_flop_per_sec}\")\n",
        "\n",
        "\n",
        "promised_flop_per_sec=16e12\n",
        "bf16_mfu=bf16_actual_flop_per_sec/promised_flop_per_sec\n",
        "\n",
        "print(f\"Model FLOPs utilization (MFU) : {bf16_mfu}\")"
      ],
      "metadata": {
        "colab": {
          "base_uri": "https://localhost:8080/"
        },
        "id": "XSi9jYka6MTv",
        "outputId": "203a0ff3-f916-4ef0-a751-819cdb72ced3"
      },
      "execution_count": 89,
      "outputs": [
        {
          "output_type": "stream",
          "name": "stdout",
          "text": [
            "torch.bfloat16 torch.bfloat16\n",
            "Actual Time to Compute matrix Multipication on Linear Model on GPU(T4) 3.8737608425999497\n",
            "BF16 actual flop per sec 2270685615249.374\n",
            "Model FLOPs utilization (MFU) : 0.14191785095308587\n"
          ]
        }
      ]
    },
    {
      "cell_type": "markdown",
      "source": [
        "  Note: comparing bfloat16 to float32, the actual FLOP/s is higher.\n",
        "    The MFU here is rather low, probably because the promised FLOPs is a bit optimistic."
      ],
      "metadata": {
        "id": "8PJHyHtb-E5i"
      }
    },
    {
      "cell_type": "code",
      "source": [],
      "metadata": {
        "id": "Xc1FjTv49mHx"
      },
      "execution_count": null,
      "outputs": []
    }
  ]
}