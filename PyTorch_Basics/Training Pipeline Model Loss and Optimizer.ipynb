{
 "cells": [
  {
   "cell_type": "code",
   "execution_count": 2,
   "metadata": {},
   "outputs": [
    {
     "name": "stderr",
     "output_type": "stream",
     "text": [
      "c:\\Users\\ayush\\AppData\\Local\\Programs\\Python\\Python39\\lib\\site-packages\\tqdm\\auto.py:21: TqdmWarning: IProgress not found. Please update jupyter and ipywidgets. See https://ipywidgets.readthedocs.io/en/stable/user_install.html\n",
      "  from .autonotebook import tqdm as notebook_tqdm\n"
     ]
    },
    {
     "name": "stdout",
     "output_type": "stream",
     "text": [
      "4 1\n",
      "Prediction before training: f(5) = 2.137\n",
      "epoch 1: w = 0.716, loss = 19.31009293\n",
      "epoch 11: w = 1.724, loss = 0.50932682\n",
      "epoch 21: w = 1.888, loss = 0.02233969\n",
      "epoch 31: w = 1.917, loss = 0.00920696\n",
      "epoch 41: w = 1.923, loss = 0.00836492\n",
      "epoch 51: w = 1.926, loss = 0.00787011\n",
      "epoch 61: w = 1.929, loss = 0.00741182\n",
      "epoch 71: w = 1.931, loss = 0.00698042\n",
      "epoch 81: w = 1.933, loss = 0.00657413\n",
      "epoch 91: w = 1.935, loss = 0.00619145\n",
      "Prediction after training: f(5) = 9.869\n"
     ]
    }
   ],
   "source": [
    "# 1) Design model (input , output size, forward pass)\n",
    "# 2) Construct loss and optimizer\n",
    "# 3) Training the loop\n",
    "#    - forward pass: Compute prediction\n",
    "#    - backward pass: gradients\n",
    "#    - update model parameters\n",
    "\n",
    "import torch\n",
    "import torch.nn as nn\n",
    "\n",
    "X=torch.tensor([[1],[2],[3],[4]],dtype=torch.float32)\n",
    "Y=torch.tensor([[2],[4],[6],[8]],dtype=torch.float32)\n",
    "\n",
    "X_test=torch.tensor([5],dtype=torch.float32)\n",
    "\n",
    "n_samples,n_features=X.shape\n",
    "print(n_samples,n_features)\n",
    "\n",
    "input_size=n_features\n",
    "\n",
    "output_size=n_features\n",
    "\n",
    "model=nn.Linear(input_size,output_size)\n",
    "\n",
    "print(f\"Prediction before training: f(5) = {model(X_test).item():.3f}\")\n",
    "\n",
    "# TRAINING \n",
    "learning_rate=0.01\n",
    "n_iters=100\n",
    "\n",
    "loss=nn.MSELoss()\n",
    "\n",
    "optimizer=torch.optim.SGD(model.parameters(),lr=learning_rate)\n",
    "\n",
    "for epoch in range(n_iters):\n",
    "    #prediction=forward pass\n",
    "    y_pred=model(X)\n",
    "\n",
    "    #loss\n",
    "    l=loss(Y,y_pred)\n",
    "\n",
    "    # gradient =backward pass\n",
    "    l.backward() #dl/dw\n",
    "\n",
    "    #update weights\n",
    "    optimizer.step()\n",
    "\n",
    "    # zero gradients\n",
    "    optimizer.zero_grad()\n",
    "\n",
    "    if epoch % 10 == 0:\n",
    "        [w,b]=model.parameters()\n",
    "        print(f'epoch {epoch+1}: w = {w[0][0].item():.3f}, loss = {l.item():.8f}')\n",
    "\n",
    "print(f'Prediction after training: f(5) = {model(X_test).item():.3f}')\n"
   ]
  },
  {
   "cell_type": "code",
   "execution_count": null,
   "metadata": {},
   "outputs": [],
   "source": []
  }
 ],
 "metadata": {
  "kernelspec": {
   "display_name": "Python 3",
   "language": "python",
   "name": "python3"
  },
  "language_info": {
   "codemirror_mode": {
    "name": "ipython",
    "version": 3
   },
   "file_extension": ".py",
   "mimetype": "text/x-python",
   "name": "python",
   "nbconvert_exporter": "python",
   "pygments_lexer": "ipython3",
   "version": "3.9.10"
  }
 },
 "nbformat": 4,
 "nbformat_minor": 2
}
