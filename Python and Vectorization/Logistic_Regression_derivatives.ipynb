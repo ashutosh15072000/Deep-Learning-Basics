{
 "cells": [
  {
   "cell_type": "code",
   "execution_count": null,
   "metadata": {},
   "outputs": [],
   "source": [
    "J=0 \n",
    "dw1=0\n",
    "dw2=0\n",
    "db=0\n",
    "m=10\n",
    "for i in range(1,m):\n",
    "    z\n"
   ]
  }
 ],
 "metadata": {
  "kernelspec": {
   "display_name": "Python 3",
   "language": "python",
   "name": "python3"
  },
  "language_info": {
   "name": "python",
   "version": "3.9.18"
  }
 },
 "nbformat": 4,
 "nbformat_minor": 2
}
